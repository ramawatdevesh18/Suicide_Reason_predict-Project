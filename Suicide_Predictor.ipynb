{
  "cells": [
    {
      "cell_type": "markdown",
      "metadata": {
        "id": "au4OaOtGd3bl"
      },
      "source": [
        "#data filteration"
      ]
    },
    {
      "cell_type": "code",
      "execution_count": null,
      "metadata": {
        "id": "b7GvY8rZIN5a"
      },
      "outputs": [],
      "source": [
        "import pandas as pd\n",
        "import numpy as np\n",
        "import seaborn as sns\n",
        "import matplotlib.pyplot as plt\n",
        "import statistics as stat"
      ]
    },
    {
      "cell_type": "code",
      "execution_count": null,
      "metadata": {
        "colab": {
          "base_uri": "https://localhost:8080/",
          "height": 424
        },
        "id": "QmLoLI4DQep-",
        "outputId": "1a4350d8-0cb9-45e9-b8a9-522b9be8dd6f"
      },
      "outputs": [
        {
          "output_type": "execute_result",
          "data": {
            "text/plain": [
              "                State  Year             Type_code  \\\n",
              "0       A & N Islands  2001                Causes   \n",
              "1       A & N Islands  2001                Causes   \n",
              "2       A & N Islands  2001                Causes   \n",
              "3       A & N Islands  2001                Causes   \n",
              "4       A & N Islands  2001                Causes   \n",
              "...               ...   ...                   ...   \n",
              "194146      Rajasthan  2009  Professional_Profile   \n",
              "194147      Rajasthan  2009  Professional_Profile   \n",
              "194148      Rajasthan  2009  Professional_Profile   \n",
              "194149      Rajasthan  2009  Professional_Profile   \n",
              "194150      Rajasthan  2009  Professional_Profile   \n",
              "\n",
              "                                           Type  Gender Age_group  Total  \n",
              "0                            Illness (Aids/STD)  Female      0-14      0  \n",
              "1       Bankruptcy or Sudden change in Economic  Female      0-14      0  \n",
              "2       Cancellation/Non-Settlement of Marriage  Female      0-14      0  \n",
              "3             Physical Abuse (Rape/Incest Etc.)  Female      0-14      0  \n",
              "4                                 Dowry Dispute  Female      0-14      0  \n",
              "...                                         ...     ...       ...    ...  \n",
              "194146                    Professional Activity  Female     15-29      0  \n",
              "194147                  Others (Please Specify)  Female     15-29     67  \n",
              "194148                           Retired Person  Female     15-29      0  \n",
              "194149                     Service (Government)  Female     15-29      7  \n",
              "194150                                  Student  Female     15-29     55  \n",
              "\n",
              "[194151 rows x 7 columns]"
            ],
            "text/html": [
              "\n",
              "  <div id=\"df-4fede4a6-617e-4502-b30e-20218cbb73af\">\n",
              "    <div class=\"colab-df-container\">\n",
              "      <div>\n",
              "<style scoped>\n",
              "    .dataframe tbody tr th:only-of-type {\n",
              "        vertical-align: middle;\n",
              "    }\n",
              "\n",
              "    .dataframe tbody tr th {\n",
              "        vertical-align: top;\n",
              "    }\n",
              "\n",
              "    .dataframe thead th {\n",
              "        text-align: right;\n",
              "    }\n",
              "</style>\n",
              "<table border=\"1\" class=\"dataframe\">\n",
              "  <thead>\n",
              "    <tr style=\"text-align: right;\">\n",
              "      <th></th>\n",
              "      <th>State</th>\n",
              "      <th>Year</th>\n",
              "      <th>Type_code</th>\n",
              "      <th>Type</th>\n",
              "      <th>Gender</th>\n",
              "      <th>Age_group</th>\n",
              "      <th>Total</th>\n",
              "    </tr>\n",
              "  </thead>\n",
              "  <tbody>\n",
              "    <tr>\n",
              "      <th>0</th>\n",
              "      <td>A &amp; N Islands</td>\n",
              "      <td>2001</td>\n",
              "      <td>Causes</td>\n",
              "      <td>Illness (Aids/STD)</td>\n",
              "      <td>Female</td>\n",
              "      <td>0-14</td>\n",
              "      <td>0</td>\n",
              "    </tr>\n",
              "    <tr>\n",
              "      <th>1</th>\n",
              "      <td>A &amp; N Islands</td>\n",
              "      <td>2001</td>\n",
              "      <td>Causes</td>\n",
              "      <td>Bankruptcy or Sudden change in Economic</td>\n",
              "      <td>Female</td>\n",
              "      <td>0-14</td>\n",
              "      <td>0</td>\n",
              "    </tr>\n",
              "    <tr>\n",
              "      <th>2</th>\n",
              "      <td>A &amp; N Islands</td>\n",
              "      <td>2001</td>\n",
              "      <td>Causes</td>\n",
              "      <td>Cancellation/Non-Settlement of Marriage</td>\n",
              "      <td>Female</td>\n",
              "      <td>0-14</td>\n",
              "      <td>0</td>\n",
              "    </tr>\n",
              "    <tr>\n",
              "      <th>3</th>\n",
              "      <td>A &amp; N Islands</td>\n",
              "      <td>2001</td>\n",
              "      <td>Causes</td>\n",
              "      <td>Physical Abuse (Rape/Incest Etc.)</td>\n",
              "      <td>Female</td>\n",
              "      <td>0-14</td>\n",
              "      <td>0</td>\n",
              "    </tr>\n",
              "    <tr>\n",
              "      <th>4</th>\n",
              "      <td>A &amp; N Islands</td>\n",
              "      <td>2001</td>\n",
              "      <td>Causes</td>\n",
              "      <td>Dowry Dispute</td>\n",
              "      <td>Female</td>\n",
              "      <td>0-14</td>\n",
              "      <td>0</td>\n",
              "    </tr>\n",
              "    <tr>\n",
              "      <th>...</th>\n",
              "      <td>...</td>\n",
              "      <td>...</td>\n",
              "      <td>...</td>\n",
              "      <td>...</td>\n",
              "      <td>...</td>\n",
              "      <td>...</td>\n",
              "      <td>...</td>\n",
              "    </tr>\n",
              "    <tr>\n",
              "      <th>194146</th>\n",
              "      <td>Rajasthan</td>\n",
              "      <td>2009</td>\n",
              "      <td>Professional_Profile</td>\n",
              "      <td>Professional Activity</td>\n",
              "      <td>Female</td>\n",
              "      <td>15-29</td>\n",
              "      <td>0</td>\n",
              "    </tr>\n",
              "    <tr>\n",
              "      <th>194147</th>\n",
              "      <td>Rajasthan</td>\n",
              "      <td>2009</td>\n",
              "      <td>Professional_Profile</td>\n",
              "      <td>Others (Please Specify)</td>\n",
              "      <td>Female</td>\n",
              "      <td>15-29</td>\n",
              "      <td>67</td>\n",
              "    </tr>\n",
              "    <tr>\n",
              "      <th>194148</th>\n",
              "      <td>Rajasthan</td>\n",
              "      <td>2009</td>\n",
              "      <td>Professional_Profile</td>\n",
              "      <td>Retired Person</td>\n",
              "      <td>Female</td>\n",
              "      <td>15-29</td>\n",
              "      <td>0</td>\n",
              "    </tr>\n",
              "    <tr>\n",
              "      <th>194149</th>\n",
              "      <td>Rajasthan</td>\n",
              "      <td>2009</td>\n",
              "      <td>Professional_Profile</td>\n",
              "      <td>Service (Government)</td>\n",
              "      <td>Female</td>\n",
              "      <td>15-29</td>\n",
              "      <td>7</td>\n",
              "    </tr>\n",
              "    <tr>\n",
              "      <th>194150</th>\n",
              "      <td>Rajasthan</td>\n",
              "      <td>2009</td>\n",
              "      <td>Professional_Profile</td>\n",
              "      <td>Student</td>\n",
              "      <td>Female</td>\n",
              "      <td>15-29</td>\n",
              "      <td>55</td>\n",
              "    </tr>\n",
              "  </tbody>\n",
              "</table>\n",
              "<p>194151 rows × 7 columns</p>\n",
              "</div>\n",
              "      <button class=\"colab-df-convert\" onclick=\"convertToInteractive('df-4fede4a6-617e-4502-b30e-20218cbb73af')\"\n",
              "              title=\"Convert this dataframe to an interactive table.\"\n",
              "              style=\"display:none;\">\n",
              "        \n",
              "  <svg xmlns=\"http://www.w3.org/2000/svg\" height=\"24px\"viewBox=\"0 0 24 24\"\n",
              "       width=\"24px\">\n",
              "    <path d=\"M0 0h24v24H0V0z\" fill=\"none\"/>\n",
              "    <path d=\"M18.56 5.44l.94 2.06.94-2.06 2.06-.94-2.06-.94-.94-2.06-.94 2.06-2.06.94zm-11 1L8.5 8.5l.94-2.06 2.06-.94-2.06-.94L8.5 2.5l-.94 2.06-2.06.94zm10 10l.94 2.06.94-2.06 2.06-.94-2.06-.94-.94-2.06-.94 2.06-2.06.94z\"/><path d=\"M17.41 7.96l-1.37-1.37c-.4-.4-.92-.59-1.43-.59-.52 0-1.04.2-1.43.59L10.3 9.45l-7.72 7.72c-.78.78-.78 2.05 0 2.83L4 21.41c.39.39.9.59 1.41.59.51 0 1.02-.2 1.41-.59l7.78-7.78 2.81-2.81c.8-.78.8-2.07 0-2.86zM5.41 20L4 18.59l7.72-7.72 1.47 1.35L5.41 20z\"/>\n",
              "  </svg>\n",
              "      </button>\n",
              "      \n",
              "  <style>\n",
              "    .colab-df-container {\n",
              "      display:flex;\n",
              "      flex-wrap:wrap;\n",
              "      gap: 12px;\n",
              "    }\n",
              "\n",
              "    .colab-df-convert {\n",
              "      background-color: #E8F0FE;\n",
              "      border: none;\n",
              "      border-radius: 50%;\n",
              "      cursor: pointer;\n",
              "      display: none;\n",
              "      fill: #1967D2;\n",
              "      height: 32px;\n",
              "      padding: 0 0 0 0;\n",
              "      width: 32px;\n",
              "    }\n",
              "\n",
              "    .colab-df-convert:hover {\n",
              "      background-color: #E2EBFA;\n",
              "      box-shadow: 0px 1px 2px rgba(60, 64, 67, 0.3), 0px 1px 3px 1px rgba(60, 64, 67, 0.15);\n",
              "      fill: #174EA6;\n",
              "    }\n",
              "\n",
              "    [theme=dark] .colab-df-convert {\n",
              "      background-color: #3B4455;\n",
              "      fill: #D2E3FC;\n",
              "    }\n",
              "\n",
              "    [theme=dark] .colab-df-convert:hover {\n",
              "      background-color: #434B5C;\n",
              "      box-shadow: 0px 1px 3px 1px rgba(0, 0, 0, 0.15);\n",
              "      filter: drop-shadow(0px 1px 2px rgba(0, 0, 0, 0.3));\n",
              "      fill: #FFFFFF;\n",
              "    }\n",
              "  </style>\n",
              "\n",
              "      <script>\n",
              "        const buttonEl =\n",
              "          document.querySelector('#df-4fede4a6-617e-4502-b30e-20218cbb73af button.colab-df-convert');\n",
              "        buttonEl.style.display =\n",
              "          google.colab.kernel.accessAllowed ? 'block' : 'none';\n",
              "\n",
              "        async function convertToInteractive(key) {\n",
              "          const element = document.querySelector('#df-4fede4a6-617e-4502-b30e-20218cbb73af');\n",
              "          const dataTable =\n",
              "            await google.colab.kernel.invokeFunction('convertToInteractive',\n",
              "                                                     [key], {});\n",
              "          if (!dataTable) return;\n",
              "\n",
              "          const docLinkHtml = 'Like what you see? Visit the ' +\n",
              "            '<a target=\"_blank\" href=https://colab.research.google.com/notebooks/data_table.ipynb>data table notebook</a>'\n",
              "            + ' to learn more about interactive tables.';\n",
              "          element.innerHTML = '';\n",
              "          dataTable['output_type'] = 'display_data';\n",
              "          await google.colab.output.renderOutput(dataTable, element);\n",
              "          const docLink = document.createElement('div');\n",
              "          docLink.innerHTML = docLinkHtml;\n",
              "          element.appendChild(docLink);\n",
              "        }\n",
              "      </script>\n",
              "    </div>\n",
              "  </div>\n",
              "  "
            ]
          },
          "metadata": {},
          "execution_count": 57
        }
      ],
      "source": [
        "df=pd.read_csv(\"Suicides in India 2001-2012.csv\")\n",
        "df"
      ]
    },
    {
      "cell_type": "code",
      "execution_count": null,
      "metadata": {
        "colab": {
          "base_uri": "https://localhost:8080/"
        },
        "id": "8oLwl-mdQumL",
        "outputId": "4a2bdc11-517c-476e-ce9f-85683882c76a"
      },
      "outputs": [
        {
          "output_type": "stream",
          "name": "stdout",
          "text": [
            "<class 'pandas.core.frame.DataFrame'>\n",
            "RangeIndex: 194151 entries, 0 to 194150\n",
            "Data columns (total 7 columns):\n",
            " #   Column     Non-Null Count   Dtype \n",
            "---  ------     --------------   ----- \n",
            " 0   State      194151 non-null  object\n",
            " 1   Year       194151 non-null  int64 \n",
            " 2   Type_code  194151 non-null  object\n",
            " 3   Type       194151 non-null  object\n",
            " 4   Gender     194151 non-null  object\n",
            " 5   Age_group  194151 non-null  object\n",
            " 6   Total      194151 non-null  int64 \n",
            "dtypes: int64(2), object(5)\n",
            "memory usage: 10.4+ MB\n"
          ]
        }
      ],
      "source": [
        "df.info()"
      ]
    },
    {
      "cell_type": "code",
      "execution_count": null,
      "metadata": {
        "colab": {
          "base_uri": "https://localhost:8080/"
        },
        "id": "OFH-kBPy2nQr",
        "outputId": "329f65f8-4541-4f2e-bedf-583091fe5659"
      },
      "outputs": [
        {
          "output_type": "execute_result",
          "data": {
            "text/plain": [
              "array(['A & N Islands', 'Andhra Pradesh', 'Arunachal Pradesh', 'Assam',\n",
              "       'Bihar', 'Chandigarh', 'Chhattisgarh', 'D & N Haveli',\n",
              "       'Daman & Diu', 'Delhi (Ut)', 'Goa', 'Gujarat', 'Haryana',\n",
              "       'Himachal Pradesh', 'Jammu & Kashmir', 'Jharkhand', 'Karnataka',\n",
              "       'Kerala', 'Lakshadweep', 'Madhya Pradesh', 'Maharashtra',\n",
              "       'Manipur', 'Meghalaya', 'Mizoram', 'Nagaland', 'Odisha',\n",
              "       'Puducherry', 'Punjab', 'Rajasthan'], dtype=object)"
            ]
          },
          "metadata": {},
          "execution_count": 59
        }
      ],
      "source": [
        "df['State'].unique()"
      ]
    },
    {
      "cell_type": "code",
      "execution_count": null,
      "metadata": {
        "id": "NJYpLV2RKHCo"
      },
      "outputs": [],
      "source": [
        "df.replace('A & N Islands (Ut)','A & N Islands',inplace=True)\n",
        "df.replace('Chandigarh (Ut)','Chandigarh',inplace=True)\n",
        "df.replace('D & N Haveli (Ut)','D & N Haveli',inplace=True)\n",
        "df.replace('Daman & Diu (Ut)','Daman & Diu',inplace=True)\n",
        "df.replace('Lakshadweep (Ut)','Lakshadweep',inplace=True)\n",
        "df.replace('Delhi (Ut)','Delhi',inplace=True)\n",
        "df.replace('Bankruptcy or Sudden change in Econamics','Bankruptcy or Sudden change in Econamics Status',inplace=True)\n",
        "df.replace('By Other means (please specify)','By other means',inplace=True)\n",
        "df.replace('Not having Children(Barrenness/Impotency','Not having Children',inplace=True)\n",
        "df = df.drop(df[(df.State == 'Total (Uts)') | (df.State == 'Total (All India)') | (df.State == 'Total (States)')].index)\n",
        "df = df.drop(df[(df.Type == 'By Other means') | (df.Type == 'Other Causes (Please Specify)')].index)"
      ]
    },
    {
      "cell_type": "code",
      "execution_count": null,
      "metadata": {
        "colab": {
          "base_uri": "https://localhost:8080/",
          "height": 424
        },
        "id": "soHkTB7pTcJR",
        "outputId": "cb3d2595-8894-4e16-8a56-e1b6b909e4f1"
      },
      "outputs": [
        {
          "output_type": "execute_result",
          "data": {
            "text/plain": [
              "                State  Year             Type_code  \\\n",
              "0       A & N Islands  2001                Causes   \n",
              "1       A & N Islands  2001                Causes   \n",
              "2       A & N Islands  2001                Causes   \n",
              "3       A & N Islands  2001                Causes   \n",
              "4       A & N Islands  2001                Causes   \n",
              "...               ...   ...                   ...   \n",
              "194146      Rajasthan  2009  Professional_Profile   \n",
              "194147      Rajasthan  2009  Professional_Profile   \n",
              "194148      Rajasthan  2009  Professional_Profile   \n",
              "194149      Rajasthan  2009  Professional_Profile   \n",
              "194150      Rajasthan  2009  Professional_Profile   \n",
              "\n",
              "                                           Type  Gender Age_group  Total  \n",
              "0                            Illness (Aids/STD)  Female      0-14      0  \n",
              "1       Bankruptcy or Sudden change in Economic  Female      0-14      0  \n",
              "2       Cancellation/Non-Settlement of Marriage  Female      0-14      0  \n",
              "3             Physical Abuse (Rape/Incest Etc.)  Female      0-14      0  \n",
              "4                                 Dowry Dispute  Female      0-14      0  \n",
              "...                                         ...     ...       ...    ...  \n",
              "194146                    Professional Activity  Female     15-29      0  \n",
              "194147                  Others (Please Specify)  Female     15-29     67  \n",
              "194148                           Retired Person  Female     15-29      0  \n",
              "194149                     Service (Government)  Female     15-29      7  \n",
              "194150                                  Student  Female     15-29     55  \n",
              "\n",
              "[193861 rows x 7 columns]"
            ],
            "text/html": [
              "\n",
              "  <div id=\"df-6f763c3b-08ee-4c6d-8dcd-76eb62228b6a\">\n",
              "    <div class=\"colab-df-container\">\n",
              "      <div>\n",
              "<style scoped>\n",
              "    .dataframe tbody tr th:only-of-type {\n",
              "        vertical-align: middle;\n",
              "    }\n",
              "\n",
              "    .dataframe tbody tr th {\n",
              "        vertical-align: top;\n",
              "    }\n",
              "\n",
              "    .dataframe thead th {\n",
              "        text-align: right;\n",
              "    }\n",
              "</style>\n",
              "<table border=\"1\" class=\"dataframe\">\n",
              "  <thead>\n",
              "    <tr style=\"text-align: right;\">\n",
              "      <th></th>\n",
              "      <th>State</th>\n",
              "      <th>Year</th>\n",
              "      <th>Type_code</th>\n",
              "      <th>Type</th>\n",
              "      <th>Gender</th>\n",
              "      <th>Age_group</th>\n",
              "      <th>Total</th>\n",
              "    </tr>\n",
              "  </thead>\n",
              "  <tbody>\n",
              "    <tr>\n",
              "      <th>0</th>\n",
              "      <td>A &amp; N Islands</td>\n",
              "      <td>2001</td>\n",
              "      <td>Causes</td>\n",
              "      <td>Illness (Aids/STD)</td>\n",
              "      <td>Female</td>\n",
              "      <td>0-14</td>\n",
              "      <td>0</td>\n",
              "    </tr>\n",
              "    <tr>\n",
              "      <th>1</th>\n",
              "      <td>A &amp; N Islands</td>\n",
              "      <td>2001</td>\n",
              "      <td>Causes</td>\n",
              "      <td>Bankruptcy or Sudden change in Economic</td>\n",
              "      <td>Female</td>\n",
              "      <td>0-14</td>\n",
              "      <td>0</td>\n",
              "    </tr>\n",
              "    <tr>\n",
              "      <th>2</th>\n",
              "      <td>A &amp; N Islands</td>\n",
              "      <td>2001</td>\n",
              "      <td>Causes</td>\n",
              "      <td>Cancellation/Non-Settlement of Marriage</td>\n",
              "      <td>Female</td>\n",
              "      <td>0-14</td>\n",
              "      <td>0</td>\n",
              "    </tr>\n",
              "    <tr>\n",
              "      <th>3</th>\n",
              "      <td>A &amp; N Islands</td>\n",
              "      <td>2001</td>\n",
              "      <td>Causes</td>\n",
              "      <td>Physical Abuse (Rape/Incest Etc.)</td>\n",
              "      <td>Female</td>\n",
              "      <td>0-14</td>\n",
              "      <td>0</td>\n",
              "    </tr>\n",
              "    <tr>\n",
              "      <th>4</th>\n",
              "      <td>A &amp; N Islands</td>\n",
              "      <td>2001</td>\n",
              "      <td>Causes</td>\n",
              "      <td>Dowry Dispute</td>\n",
              "      <td>Female</td>\n",
              "      <td>0-14</td>\n",
              "      <td>0</td>\n",
              "    </tr>\n",
              "    <tr>\n",
              "      <th>...</th>\n",
              "      <td>...</td>\n",
              "      <td>...</td>\n",
              "      <td>...</td>\n",
              "      <td>...</td>\n",
              "      <td>...</td>\n",
              "      <td>...</td>\n",
              "      <td>...</td>\n",
              "    </tr>\n",
              "    <tr>\n",
              "      <th>194146</th>\n",
              "      <td>Rajasthan</td>\n",
              "      <td>2009</td>\n",
              "      <td>Professional_Profile</td>\n",
              "      <td>Professional Activity</td>\n",
              "      <td>Female</td>\n",
              "      <td>15-29</td>\n",
              "      <td>0</td>\n",
              "    </tr>\n",
              "    <tr>\n",
              "      <th>194147</th>\n",
              "      <td>Rajasthan</td>\n",
              "      <td>2009</td>\n",
              "      <td>Professional_Profile</td>\n",
              "      <td>Others (Please Specify)</td>\n",
              "      <td>Female</td>\n",
              "      <td>15-29</td>\n",
              "      <td>67</td>\n",
              "    </tr>\n",
              "    <tr>\n",
              "      <th>194148</th>\n",
              "      <td>Rajasthan</td>\n",
              "      <td>2009</td>\n",
              "      <td>Professional_Profile</td>\n",
              "      <td>Retired Person</td>\n",
              "      <td>Female</td>\n",
              "      <td>15-29</td>\n",
              "      <td>0</td>\n",
              "    </tr>\n",
              "    <tr>\n",
              "      <th>194149</th>\n",
              "      <td>Rajasthan</td>\n",
              "      <td>2009</td>\n",
              "      <td>Professional_Profile</td>\n",
              "      <td>Service (Government)</td>\n",
              "      <td>Female</td>\n",
              "      <td>15-29</td>\n",
              "      <td>7</td>\n",
              "    </tr>\n",
              "    <tr>\n",
              "      <th>194150</th>\n",
              "      <td>Rajasthan</td>\n",
              "      <td>2009</td>\n",
              "      <td>Professional_Profile</td>\n",
              "      <td>Student</td>\n",
              "      <td>Female</td>\n",
              "      <td>15-29</td>\n",
              "      <td>55</td>\n",
              "    </tr>\n",
              "  </tbody>\n",
              "</table>\n",
              "<p>193861 rows × 7 columns</p>\n",
              "</div>\n",
              "      <button class=\"colab-df-convert\" onclick=\"convertToInteractive('df-6f763c3b-08ee-4c6d-8dcd-76eb62228b6a')\"\n",
              "              title=\"Convert this dataframe to an interactive table.\"\n",
              "              style=\"display:none;\">\n",
              "        \n",
              "  <svg xmlns=\"http://www.w3.org/2000/svg\" height=\"24px\"viewBox=\"0 0 24 24\"\n",
              "       width=\"24px\">\n",
              "    <path d=\"M0 0h24v24H0V0z\" fill=\"none\"/>\n",
              "    <path d=\"M18.56 5.44l.94 2.06.94-2.06 2.06-.94-2.06-.94-.94-2.06-.94 2.06-2.06.94zm-11 1L8.5 8.5l.94-2.06 2.06-.94-2.06-.94L8.5 2.5l-.94 2.06-2.06.94zm10 10l.94 2.06.94-2.06 2.06-.94-2.06-.94-.94-2.06-.94 2.06-2.06.94z\"/><path d=\"M17.41 7.96l-1.37-1.37c-.4-.4-.92-.59-1.43-.59-.52 0-1.04.2-1.43.59L10.3 9.45l-7.72 7.72c-.78.78-.78 2.05 0 2.83L4 21.41c.39.39.9.59 1.41.59.51 0 1.02-.2 1.41-.59l7.78-7.78 2.81-2.81c.8-.78.8-2.07 0-2.86zM5.41 20L4 18.59l7.72-7.72 1.47 1.35L5.41 20z\"/>\n",
              "  </svg>\n",
              "      </button>\n",
              "      \n",
              "  <style>\n",
              "    .colab-df-container {\n",
              "      display:flex;\n",
              "      flex-wrap:wrap;\n",
              "      gap: 12px;\n",
              "    }\n",
              "\n",
              "    .colab-df-convert {\n",
              "      background-color: #E8F0FE;\n",
              "      border: none;\n",
              "      border-radius: 50%;\n",
              "      cursor: pointer;\n",
              "      display: none;\n",
              "      fill: #1967D2;\n",
              "      height: 32px;\n",
              "      padding: 0 0 0 0;\n",
              "      width: 32px;\n",
              "    }\n",
              "\n",
              "    .colab-df-convert:hover {\n",
              "      background-color: #E2EBFA;\n",
              "      box-shadow: 0px 1px 2px rgba(60, 64, 67, 0.3), 0px 1px 3px 1px rgba(60, 64, 67, 0.15);\n",
              "      fill: #174EA6;\n",
              "    }\n",
              "\n",
              "    [theme=dark] .colab-df-convert {\n",
              "      background-color: #3B4455;\n",
              "      fill: #D2E3FC;\n",
              "    }\n",
              "\n",
              "    [theme=dark] .colab-df-convert:hover {\n",
              "      background-color: #434B5C;\n",
              "      box-shadow: 0px 1px 3px 1px rgba(0, 0, 0, 0.15);\n",
              "      filter: drop-shadow(0px 1px 2px rgba(0, 0, 0, 0.3));\n",
              "      fill: #FFFFFF;\n",
              "    }\n",
              "  </style>\n",
              "\n",
              "      <script>\n",
              "        const buttonEl =\n",
              "          document.querySelector('#df-6f763c3b-08ee-4c6d-8dcd-76eb62228b6a button.colab-df-convert');\n",
              "        buttonEl.style.display =\n",
              "          google.colab.kernel.accessAllowed ? 'block' : 'none';\n",
              "\n",
              "        async function convertToInteractive(key) {\n",
              "          const element = document.querySelector('#df-6f763c3b-08ee-4c6d-8dcd-76eb62228b6a');\n",
              "          const dataTable =\n",
              "            await google.colab.kernel.invokeFunction('convertToInteractive',\n",
              "                                                     [key], {});\n",
              "          if (!dataTable) return;\n",
              "\n",
              "          const docLinkHtml = 'Like what you see? Visit the ' +\n",
              "            '<a target=\"_blank\" href=https://colab.research.google.com/notebooks/data_table.ipynb>data table notebook</a>'\n",
              "            + ' to learn more about interactive tables.';\n",
              "          element.innerHTML = '';\n",
              "          dataTable['output_type'] = 'display_data';\n",
              "          await google.colab.output.renderOutput(dataTable, element);\n",
              "          const docLink = document.createElement('div');\n",
              "          docLink.innerHTML = docLinkHtml;\n",
              "          element.appendChild(docLink);\n",
              "        }\n",
              "      </script>\n",
              "    </div>\n",
              "  </div>\n",
              "  "
            ]
          },
          "metadata": {},
          "execution_count": 37
        }
      ],
      "source": [
        "df"
      ]
    },
    {
      "cell_type": "markdown",
      "metadata": {
        "id": "OhbSa92Ld_bn"
      },
      "source": [
        "# Gender wise cases"
      ]
    },
    {
      "cell_type": "code",
      "execution_count": null,
      "metadata": {
        "colab": {
          "base_uri": "https://localhost:8080/",
          "height": 345
        },
        "id": "ils1Bu3jWESR",
        "outputId": "b1626f72-a433-4411-aa15-cdee8b9e329e"
      },
      "outputs": [
        {
          "output_type": "stream",
          "name": "stdout",
          "text": [
            "          Total\n",
            "Gender         \n",
            "Female  1771350\n",
            "Male    3415984\n"
          ]
        },
        {
          "output_type": "display_data",
          "data": {
            "text/plain": [
              "<Figure size 432x288 with 1 Axes>"
            ],
            "image/png": "[encoded data removed]"
          },
          "metadata": {
            "needs_background": "light"
          }
        }
      ],
      "source": [
        "gen_tot=pd.DataFrame(df.groupby('Gender')['Total'].sum())\n",
        "print(gen_tot)\n",
        "plt.bar(df.Gender.unique(),gen_tot['Total'], color ='Pink',width = 0.4)\n",
        "plt.show()"
      ]
    },
    {
      "cell_type": "markdown",
      "metadata": {
        "id": "yVYpg29UXhgz"
      },
      "source": [
        "**hence, it concludes that males attempt more suicide**"
      ]
    },
    {
      "cell_type": "markdown",
      "metadata": {
        "id": "eUkf1HOmeHku"
      },
      "source": [
        "# State wise cases"
      ]
    },
    {
      "cell_type": "code",
      "execution_count": null,
      "metadata": {
        "colab": {
          "base_uri": "https://localhost:8080/"
        },
        "id": "HN6Ah_3j6xdu",
        "outputId": "8fd12cbd-56ee-4baa-81a1-a6e2829440c1"
      },
      "outputs": [
        {
          "output_type": "execute_result",
          "data": {
            "text/plain": [
              "State\n",
              "A & N Islands          8109\n",
              "Andhra Pradesh       813500\n",
              "Arunachal Pradesh      6633\n",
              "Assam                172050\n",
              "Bihar                 46079\n",
              "Chandigarh             5161\n",
              "Chhattisgarh         301961\n",
              "D & N Haveli           3430\n",
              "Daman & Diu            1391\n",
              "Delhi                 84266\n",
              "Goa                   17341\n",
              "Gujarat              330760\n",
              "Haryana              146821\n",
              "Himachal Pradesh      26546\n",
              "Jammu & Kashmir       14786\n",
              "Jharkhand             49675\n",
              "Karnataka            733707\n",
              "Kerala               538904\n",
              "Lakshadweep              50\n",
              "Madhya Pradesh       451334\n",
              "Maharashtra          901943\n",
              "Manipur                2101\n",
              "Meghalaya              5405\n",
              "Mizoram                4154\n",
              "Nagaland               1718\n",
              "Odisha               266247\n",
              "Puducherry            32144\n",
              "Punjab                46303\n",
              "Rajasthan            174815\n",
              "Name: Total, dtype: int64"
            ]
          },
          "metadata": {},
          "execution_count": 39
        }
      ],
      "source": [
        "grp=df.groupby('State')['Total'].sum()\n",
        "grp"
      ]
    },
    {
      "cell_type": "code",
      "execution_count": null,
      "metadata": {
        "colab": {
          "base_uri": "https://localhost:8080/",
          "height": 975
        },
        "id": "t8ozJ0hBW6tc",
        "outputId": "ee9bd4cb-d074-446a-db25-507e93133519"
      },
      "outputs": [
        {
          "output_type": "execute_result",
          "data": {
            "text/plain": [
              "[Text(0, 0, 'Maharashtra'),\n",
              " Text(0, 0, 'Andhra Pradesh'),\n",
              " Text(0, 0, 'Karnataka'),\n",
              " Text(0, 0, 'Kerala'),\n",
              " Text(0, 0, 'Madhya Pradesh'),\n",
              " Text(0, 0, 'Gujarat'),\n",
              " Text(0, 0, 'Chhattisgarh'),\n",
              " Text(0, 0, 'Odisha'),\n",
              " Text(0, 0, 'Rajasthan'),\n",
              " Text(0, 0, 'Assam'),\n",
              " Text(0, 0, 'Haryana'),\n",
              " Text(0, 0, 'Delhi'),\n",
              " Text(0, 0, 'Jharkhand'),\n",
              " Text(0, 0, 'Punjab'),\n",
              " Text(0, 0, 'Bihar'),\n",
              " Text(0, 0, 'Puducherry'),\n",
              " Text(0, 0, 'Himachal Pradesh'),\n",
              " Text(0, 0, 'Goa'),\n",
              " Text(0, 0, 'Jammu & Kashmir'),\n",
              " Text(0, 0, 'A & N Islands'),\n",
              " Text(0, 0, 'Arunachal Pradesh'),\n",
              " Text(0, 0, 'Meghalaya'),\n",
              " Text(0, 0, 'Chandigarh'),\n",
              " Text(0, 0, 'Mizoram'),\n",
              " Text(0, 0, 'D & N Haveli'),\n",
              " Text(0, 0, 'Manipur'),\n",
              " Text(0, 0, 'Nagaland'),\n",
              " Text(0, 0, 'Daman & Diu'),\n",
              " Text(0, 0, 'Lakshadweep')]"
            ]
          },
          "metadata": {},
          "execution_count": 40
        },
        {
          "output_type": "display_data",
          "data": {
            "text/plain": [
              "<Figure size 1296x432 with 1 Axes>"
            ],
            "image/png": "[encoded data removed]"
          },
          "metadata": {
            "needs_background": "light"
          }
        }
      ],
      "source": [
        "import matplotlib.pyplot as plt\n",
        "grp=df.groupby('State')['Total'].sum()\n",
        "total_suicides=pd.DataFrame(grp).reset_index().sort_values('Total',ascending=False)\n",
        "fig , ax =plt.subplots(figsize=(18,6))\n",
        "g=sns.barplot(x='State',y='Total',data=total_suicides)\n",
        "g.set_xticklabels(g.get_xticklabels(),rotation=90)"
      ]
    },
    {
      "cell_type": "markdown",
      "metadata": {
        "id": "sw_l2ti-X4eG"
      },
      "source": [
        "hence, it concludes through graph that **MAHARASTRA** have highest suicide rate nd lowest **LAKSHDWEEP**"
      ]
    },
    {
      "cell_type": "markdown",
      "metadata": {
        "id": "nyspPBY3eWEj"
      },
      "source": [
        "# Year wise overall cases"
      ]
    },
    {
      "cell_type": "code",
      "execution_count": null,
      "metadata": {
        "colab": {
          "base_uri": "https://localhost:8080/",
          "height": 676
        },
        "id": "qiCSRJIHZi6Q",
        "outputId": "c1ce407c-6ffb-4ab5-de8e-8e0db7f3c355"
      },
      "outputs": [
        {
          "output_type": "stream",
          "name": "stdout",
          "text": [
            "Empty DataFrame\n",
            "Columns: [Year, Total]\n",
            "Index: []\n"
          ]
        },
        {
          "output_type": "error",
          "ename": "ValueError",
          "evalue": "ignored",
          "traceback": [
            "\u001b[0;31m---------------------------------------------------------------------------\u001b[0m",
            "\u001b[0;31mValueError\u001b[0m                                Traceback (most recent call last)",
            "\u001b[0;32m<ipython-input-42-61b626e60efe>\u001b[0m in \u001b[0;36m<module>\u001b[0;34m\u001b[0m\n\u001b[1;32m      4\u001b[0m \u001b[0mplt\u001b[0m\u001b[0;34m.\u001b[0m\u001b[0mfigure\u001b[0m\u001b[0;34m(\u001b[0m\u001b[0mfigsize\u001b[0m\u001b[0;34m=\u001b[0m\u001b[0;34m(\u001b[0m\u001b[0;36m9\u001b[0m\u001b[0;34m,\u001b[0m\u001b[0;36m4\u001b[0m\u001b[0;34m)\u001b[0m\u001b[0;34m)\u001b[0m\u001b[0;34m\u001b[0m\u001b[0;34m\u001b[0m\u001b[0m\n\u001b[1;32m      5\u001b[0m \u001b[0mplt\u001b[0m\u001b[0;34m.\u001b[0m\u001b[0mxticks\u001b[0m\u001b[0;34m(\u001b[0m\u001b[0mrotation\u001b[0m\u001b[0;34m=\u001b[0m\u001b[0;36m45\u001b[0m\u001b[0;34m,\u001b[0m\u001b[0mha\u001b[0m\u001b[0;34m=\u001b[0m\u001b[0;34m'right'\u001b[0m\u001b[0;34m)\u001b[0m\u001b[0;34m\u001b[0m\u001b[0;34m\u001b[0m\u001b[0m\n\u001b[0;32m----> 6\u001b[0;31m \u001b[0msns\u001b[0m\u001b[0;34m.\u001b[0m\u001b[0mbarplot\u001b[0m\u001b[0;34m(\u001b[0m\u001b[0mx\u001b[0m\u001b[0;34m=\u001b[0m\u001b[0;34m'Year'\u001b[0m\u001b[0;34m,\u001b[0m\u001b[0my\u001b[0m\u001b[0;34m=\u001b[0m\u001b[0;34m'Total'\u001b[0m\u001b[0;34m,\u001b[0m\u001b[0mdata\u001b[0m\u001b[0;34m=\u001b[0m\u001b[0moverall\u001b[0m\u001b[0;34m,\u001b[0m\u001b[0mpalette\u001b[0m\u001b[0;34m=\u001b[0m\u001b[0;34m'viridis'\u001b[0m\u001b[0;34m)\u001b[0m\u001b[0;34m.\u001b[0m\u001b[0mset_title\u001b[0m\u001b[0;34m(\u001b[0m\u001b[0;34m'Suicides in India overall'\u001b[0m\u001b[0;34m)\u001b[0m\u001b[0;34m\u001b[0m\u001b[0;34m\u001b[0m\u001b[0m\n\u001b[0m\u001b[1;32m      7\u001b[0m \u001b[0mplt\u001b[0m\u001b[0;34m.\u001b[0m\u001b[0mtight_layout\u001b[0m\u001b[0;34m(\u001b[0m\u001b[0;34m)\u001b[0m\u001b[0;34m\u001b[0m\u001b[0;34m\u001b[0m\u001b[0m\n",
            "\u001b[0;32m/usr/local/lib/python3.7/dist-packages/seaborn/_decorators.py\u001b[0m in \u001b[0;36minner_f\u001b[0;34m(*args, **kwargs)\u001b[0m\n\u001b[1;32m     44\u001b[0m             )\n\u001b[1;32m     45\u001b[0m         \u001b[0mkwargs\u001b[0m\u001b[0;34m.\u001b[0m\u001b[0mupdate\u001b[0m\u001b[0;34m(\u001b[0m\u001b[0;34m{\u001b[0m\u001b[0mk\u001b[0m\u001b[0;34m:\u001b[0m \u001b[0marg\u001b[0m \u001b[0;32mfor\u001b[0m \u001b[0mk\u001b[0m\u001b[0;34m,\u001b[0m \u001b[0marg\u001b[0m \u001b[0;32min\u001b[0m \u001b[0mzip\u001b[0m\u001b[0;34m(\u001b[0m\u001b[0msig\u001b[0m\u001b[0;34m.\u001b[0m\u001b[0mparameters\u001b[0m\u001b[0;34m,\u001b[0m \u001b[0margs\u001b[0m\u001b[0;34m)\u001b[0m\u001b[0;34m}\u001b[0m\u001b[0;34m)\u001b[0m\u001b[0;34m\u001b[0m\u001b[0;34m\u001b[0m\u001b[0m\n\u001b[0;32m---> 46\u001b[0;31m         \u001b[0;32mreturn\u001b[0m \u001b[0mf\u001b[0m\u001b[0;34m(\u001b[0m\u001b[0;34m**\u001b[0m\u001b[0mkwargs\u001b[0m\u001b[0;34m)\u001b[0m\u001b[0;34m\u001b[0m\u001b[0;34m\u001b[0m\u001b[0m\n\u001b[0m\u001b[1;32m     47\u001b[0m     \u001b[0;32mreturn\u001b[0m \u001b[0minner_f\u001b[0m\u001b[0;34m\u001b[0m\u001b[0;34m\u001b[0m\u001b[0m\n\u001b[1;32m     48\u001b[0m \u001b[0;34m\u001b[0m\u001b[0m\n",
            "\u001b[0;32m/usr/local/lib/python3.7/dist-packages/seaborn/categorical.py\u001b[0m in \u001b[0;36mbarplot\u001b[0;34m(x, y, hue, data, order, hue_order, estimator, ci, n_boot, units, seed, orient, color, palette, saturation, errcolor, errwidth, capsize, dodge, ax, **kwargs)\u001b[0m\n\u001b[1;32m   3183\u001b[0m                           \u001b[0mestimator\u001b[0m\u001b[0;34m,\u001b[0m \u001b[0mci\u001b[0m\u001b[0;34m,\u001b[0m \u001b[0mn_boot\u001b[0m\u001b[0;34m,\u001b[0m \u001b[0munits\u001b[0m\u001b[0;34m,\u001b[0m \u001b[0mseed\u001b[0m\u001b[0;34m,\u001b[0m\u001b[0;34m\u001b[0m\u001b[0;34m\u001b[0m\u001b[0m\n\u001b[1;32m   3184\u001b[0m                           \u001b[0morient\u001b[0m\u001b[0;34m,\u001b[0m \u001b[0mcolor\u001b[0m\u001b[0;34m,\u001b[0m \u001b[0mpalette\u001b[0m\u001b[0;34m,\u001b[0m \u001b[0msaturation\u001b[0m\u001b[0;34m,\u001b[0m\u001b[0;34m\u001b[0m\u001b[0;34m\u001b[0m\u001b[0m\n\u001b[0;32m-> 3185\u001b[0;31m                           errcolor, errwidth, capsize, dodge)\n\u001b[0m\u001b[1;32m   3186\u001b[0m \u001b[0;34m\u001b[0m\u001b[0m\n\u001b[1;32m   3187\u001b[0m     \u001b[0;32mif\u001b[0m \u001b[0max\u001b[0m \u001b[0;32mis\u001b[0m \u001b[0;32mNone\u001b[0m\u001b[0;34m:\u001b[0m\u001b[0;34m\u001b[0m\u001b[0;34m\u001b[0m\u001b[0m\n",
            "\u001b[0;32m/usr/local/lib/python3.7/dist-packages/seaborn/categorical.py\u001b[0m in \u001b[0;36m__init__\u001b[0;34m(self, x, y, hue, data, order, hue_order, estimator, ci, n_boot, units, seed, orient, color, palette, saturation, errcolor, errwidth, capsize, dodge)\u001b[0m\n\u001b[1;32m   1584\u001b[0m         self.establish_variables(x, y, hue, data, orient,\n\u001b[1;32m   1585\u001b[0m                                  order, hue_order, units)\n\u001b[0;32m-> 1586\u001b[0;31m         \u001b[0mself\u001b[0m\u001b[0;34m.\u001b[0m\u001b[0mestablish_colors\u001b[0m\u001b[0;34m(\u001b[0m\u001b[0mcolor\u001b[0m\u001b[0;34m,\u001b[0m \u001b[0mpalette\u001b[0m\u001b[0;34m,\u001b[0m \u001b[0msaturation\u001b[0m\u001b[0;34m)\u001b[0m\u001b[0;34m\u001b[0m\u001b[0;34m\u001b[0m\u001b[0m\n\u001b[0m\u001b[1;32m   1587\u001b[0m         \u001b[0mself\u001b[0m\u001b[0;34m.\u001b[0m\u001b[0mestimate_statistic\u001b[0m\u001b[0;34m(\u001b[0m\u001b[0mestimator\u001b[0m\u001b[0;34m,\u001b[0m \u001b[0mci\u001b[0m\u001b[0;34m,\u001b[0m \u001b[0mn_boot\u001b[0m\u001b[0;34m,\u001b[0m \u001b[0mseed\u001b[0m\u001b[0;34m)\u001b[0m\u001b[0;34m\u001b[0m\u001b[0;34m\u001b[0m\u001b[0m\n\u001b[1;32m   1588\u001b[0m \u001b[0;34m\u001b[0m\u001b[0m\n",
            "\u001b[0;32m/usr/local/lib/python3.7/dist-packages/seaborn/categorical.py\u001b[0m in \u001b[0;36mestablish_colors\u001b[0;34m(self, color, palette, saturation)\u001b[0m\n\u001b[1;32m    317\u001b[0m         \u001b[0;31m# Determine the gray color to use for the lines framing the plot\u001b[0m\u001b[0;34m\u001b[0m\u001b[0;34m\u001b[0m\u001b[0;34m\u001b[0m\u001b[0m\n\u001b[1;32m    318\u001b[0m         \u001b[0mlight_vals\u001b[0m \u001b[0;34m=\u001b[0m \u001b[0;34m[\u001b[0m\u001b[0mcolorsys\u001b[0m\u001b[0;34m.\u001b[0m\u001b[0mrgb_to_hls\u001b[0m\u001b[0;34m(\u001b[0m\u001b[0;34m*\u001b[0m\u001b[0mc\u001b[0m\u001b[0;34m)\u001b[0m\u001b[0;34m[\u001b[0m\u001b[0;36m1\u001b[0m\u001b[0;34m]\u001b[0m \u001b[0;32mfor\u001b[0m \u001b[0mc\u001b[0m \u001b[0;32min\u001b[0m \u001b[0mrgb_colors\u001b[0m\u001b[0;34m]\u001b[0m\u001b[0;34m\u001b[0m\u001b[0;34m\u001b[0m\u001b[0m\n\u001b[0;32m--> 319\u001b[0;31m         \u001b[0mlum\u001b[0m \u001b[0;34m=\u001b[0m \u001b[0mmin\u001b[0m\u001b[0;34m(\u001b[0m\u001b[0mlight_vals\u001b[0m\u001b[0;34m)\u001b[0m \u001b[0;34m*\u001b[0m \u001b[0;36m.6\u001b[0m\u001b[0;34m\u001b[0m\u001b[0;34m\u001b[0m\u001b[0m\n\u001b[0m\u001b[1;32m    320\u001b[0m         \u001b[0mgray\u001b[0m \u001b[0;34m=\u001b[0m \u001b[0mmpl\u001b[0m\u001b[0;34m.\u001b[0m\u001b[0mcolors\u001b[0m\u001b[0;34m.\u001b[0m\u001b[0mrgb2hex\u001b[0m\u001b[0;34m(\u001b[0m\u001b[0;34m(\u001b[0m\u001b[0mlum\u001b[0m\u001b[0;34m,\u001b[0m \u001b[0mlum\u001b[0m\u001b[0;34m,\u001b[0m \u001b[0mlum\u001b[0m\u001b[0;34m)\u001b[0m\u001b[0;34m)\u001b[0m\u001b[0;34m\u001b[0m\u001b[0;34m\u001b[0m\u001b[0m\n\u001b[1;32m    321\u001b[0m \u001b[0;34m\u001b[0m\u001b[0m\n",
            "\u001b[0;31mValueError\u001b[0m: min() arg is an empty sequence"
          ]
        },
        {
          "output_type": "display_data",
          "data": {
            "text/plain": [
              "<Figure size 648x288 with 1 Axes>"
            ],
            "image/png": "[encoded data removed]"
          },
          "metadata": {
            "needs_background": "light"
          }
        }
      ],
      "source": [
        "indiaOverall = df[(df['Type_code']=='Education_Status') & (df['State']=='Total (All India)')]\n",
        "overall = indiaOverall.groupby(['Year'],as_index=False).sum()\n",
        "print(overall)\n",
        "plt.figure(figsize=(9,4))\n",
        "plt.xticks(rotation=45,ha='right')\n",
        "sns.barplot(x='Year',y='Total',data=overall,palette='viridis').set_title('Suicides in India overall')\n",
        "plt.tight_layout()"
      ]
    },
    {
      "cell_type": "markdown",
      "metadata": {
        "id": "7em3DGbkdqI0"
      },
      "source": [
        "The total number of suicides in the conutry are increasing with time. From 2001 to 2012 the percentage increase in suicides is 24.8% which is very scary"
      ]
    },
    {
      "cell_type": "markdown",
      "metadata": {
        "id": "-ZnDpdwzYV28"
      },
      "source": [
        "hence, this shows that YEAR 2011 have hight suicide rate"
      ]
    },
    {
      "cell_type": "code",
      "execution_count": null,
      "metadata": {
        "id": "vduLt8CBLfOz"
      },
      "outputs": [],
      "source": []
    },
    {
      "cell_type": "code",
      "execution_count": null,
      "metadata": {
        "id": "OuCeuoyqLfFa"
      },
      "outputs": [],
      "source": []
    },
    {
      "cell_type": "code",
      "execution_count": null,
      "metadata": {
        "id": "q--OSqbjLfB-"
      },
      "outputs": [],
      "source": []
    },
    {
      "cell_type": "code",
      "execution_count": null,
      "metadata": {
        "id": "67T2u76HLe_V"
      },
      "outputs": [],
      "source": []
    },
    {
      "cell_type": "markdown",
      "metadata": {
        "id": "Kk_Jxuccvdp1"
      },
      "source": [
        "# **total no of suicide in a particular state due to a particular type_code**"
      ]
    },
    {
      "cell_type": "code",
      "execution_count": null,
      "metadata": {
        "id": "JxmfrNOnfMCL"
      },
      "outputs": [],
      "source": [
        "\n",
        "Type_code_menu=df['Type_code'].unique()\n",
        "state_menu=df['State'].unique()\n",
        "print(Type_code_menu)\n",
        "print(state_menu)\n",
        "ty_co=input(\"Enter the type_code\")\n",
        "state=input(\"Enter the state: \")\n",
        "data=df[df['State']==state]\n",
        "typ_c = data[data['Type_code'] == ty_co]\n",
        "typ_c"
      ]
    },
    {
      "cell_type": "code",
      "execution_count": null,
      "metadata": {
        "id": "EpogzdYOsuFj"
      },
      "outputs": [],
      "source": [
        "typ_c"
      ]
    },
    {
      "cell_type": "code",
      "execution_count": null,
      "metadata": {
        "id": "PYA31iUgr2Gq"
      },
      "outputs": [],
      "source": [
        "year_count=pd.DataFrame(typ_c.groupby('Year')['Total'].sum())\n",
        "year_count"
      ]
    },
    {
      "cell_type": "code",
      "execution_count": null,
      "metadata": {
        "id": "YEFf8kI780xa"
      },
      "outputs": [],
      "source": [
        "year_count.Total.mean()"
      ]
    },
    {
      "cell_type": "code",
      "execution_count": null,
      "metadata": {
        "id": "JXsUWFyGsTIU"
      },
      "outputs": [],
      "source": [
        "plt.bar(df.Year.unique(),year_count['Total'], color ='maroon',width = 0.4)"
      ]
    },
    {
      "cell_type": "code",
      "execution_count": null,
      "metadata": {
        "id": "4_EvKT-nLc7I"
      },
      "outputs": [],
      "source": []
    },
    {
      "cell_type": "code",
      "execution_count": null,
      "metadata": {
        "id": "NEBhuA-MLkG1"
      },
      "outputs": [],
      "source": []
    },
    {
      "cell_type": "markdown",
      "metadata": {
        "id": "Z2WURhtnLiL3"
      },
      "source": [
        "#  **year wise suicide in a particular state due to particular type**"
      ]
    },
    {
      "cell_type": "code",
      "execution_count": null,
      "metadata": {
        "id": "v8nSU7Xwc5PK"
      },
      "outputs": [],
      "source": [
        "Type_menu=df['Type'].unique()\n",
        "state_menu=df['State'].unique()\n",
        "print(Type_menu)\n",
        "print(state_menu)\n",
        "ty=input()\n",
        "state=input(\"Enter the state: \")\n",
        "data=df[df['State']==state]\n",
        "typ = data[data['Type'] == ty]\n",
        "typ"
      ]
    },
    {
      "cell_type": "code",
      "execution_count": null,
      "metadata": {
        "id": "EO5h4wbKE6m0"
      },
      "outputs": [],
      "source": [
        "year_c=pd.DataFrame(typ.groupby('Year')['Total'].sum())"
      ]
    },
    {
      "cell_type": "code",
      "execution_count": null,
      "metadata": {
        "id": "Gkm1spfC9Vm4"
      },
      "outputs": [],
      "source": [
        "year_c.Total.mean()"
      ]
    },
    {
      "cell_type": "code",
      "execution_count": null,
      "metadata": {
        "id": "mf9Ef_w_FDMW"
      },
      "outputs": [],
      "source": [
        "plt.bar(df.Year.unique(),year_c['Total'], color ='Green',width = 0.4)"
      ]
    },
    {
      "cell_type": "code",
      "execution_count": null,
      "metadata": {
        "id": "VazSYMHsWWmT"
      },
      "outputs": [],
      "source": []
    },
    {
      "cell_type": "code",
      "execution_count": null,
      "metadata": {
        "id": "6G9t7i-IWWpr"
      },
      "outputs": [],
      "source": []
    },
    {
      "cell_type": "code",
      "execution_count": null,
      "metadata": {
        "id": "3N6IgV1BWW2o"
      },
      "outputs": [],
      "source": []
    },
    {
      "cell_type": "markdown",
      "metadata": {
        "id": "9_AdIXKZsTmx"
      },
      "source": [
        "# **Year wise suicide in a perticular state by age-group**"
      ]
    },
    {
      "cell_type": "code",
      "execution_count": null,
      "metadata": {
        "id": "nx31hc8DsTIN"
      },
      "outputs": [],
      "source": [
        "agegrp_menu=df['Age_group'].unique()\n",
        "state_menu=df['State'].unique()\n",
        "print(agegrp_menu)\n",
        "print(state_menu)\n",
        "ag=input()\n",
        "state=input(\"Enter the state: \")\n",
        "data=df[df['State']==state]\n",
        "ag_gp = data[data['Age_group'] == ag]\n",
        "ag_gp"
      ]
    },
    {
      "cell_type": "code",
      "execution_count": null,
      "metadata": {
        "id": "crMWmTKWteZq"
      },
      "outputs": [],
      "source": [
        "ag_data=pd.DataFrame(typ.groupby('Year')['Total'].sum())"
      ]
    },
    {
      "cell_type": "code",
      "execution_count": null,
      "metadata": {
        "id": "2DJ5Rn3z-I21"
      },
      "outputs": [],
      "source": [
        "ag_data.Total.mean()"
      ]
    },
    {
      "cell_type": "code",
      "execution_count": null,
      "metadata": {
        "id": "cyGvkTmltnYE"
      },
      "outputs": [],
      "source": [
        "plt.bar(df.Year.unique(),ag_data['Total'], color ='Black',width = 0.4)"
      ]
    },
    {
      "cell_type": "code",
      "execution_count": null,
      "metadata": {
        "id": "X40uvamOWdKj"
      },
      "outputs": [],
      "source": []
    },
    {
      "cell_type": "code",
      "execution_count": null,
      "metadata": {
        "id": "Opp2gG0WWdMQ"
      },
      "outputs": [],
      "source": []
    },
    {
      "cell_type": "code",
      "execution_count": null,
      "metadata": {
        "id": "oKI88aBnWdPk"
      },
      "outputs": [],
      "source": []
    },
    {
      "cell_type": "markdown",
      "metadata": {
        "id": "mK7UkXaxIw-X"
      },
      "source": [
        "# **if a suicide happen what is the prob of that happening in an particular state**"
      ]
    },
    {
      "cell_type": "code",
      "execution_count": null,
      "metadata": {
        "id": "gfpZK3yPHn2a"
      },
      "outputs": [],
      "source": [
        "total_sum = df['Total'].sum()\n",
        "total_sum"
      ]
    },
    {
      "cell_type": "code",
      "execution_count": null,
      "metadata": {
        "id": "GjXugJMyHr_u"
      },
      "outputs": [],
      "source": [
        "state_menu = df['State'].unique()\n",
        "print(state_menu,\"\\n\")\n",
        "user_state = input(\"Enter the state whose suicide you want to calculate: \")\n",
        "state_wise = df.loc[df['State'] == user_state, 'Total'].sum()\n",
        "state_wise\n",
        "print(\"\\nThe probability of the state\",user_state,\" is: \",(state_wise/total_sum))\n",
        "print(\"\\nThe percent in\",user_state,\" is: \",(state_wise/total_sum)*100)"
      ]
    },
    {
      "cell_type": "code",
      "execution_count": null,
      "metadata": {
        "id": "pGsZxUikWlEo"
      },
      "outputs": [],
      "source": []
    },
    {
      "cell_type": "code",
      "execution_count": null,
      "metadata": {
        "id": "ROS6aw_RWlIP"
      },
      "outputs": [],
      "source": []
    },
    {
      "cell_type": "code",
      "execution_count": null,
      "metadata": {
        "id": "dblYCjQzWlUC"
      },
      "outputs": [],
      "source": []
    },
    {
      "cell_type": "markdown",
      "metadata": {
        "id": "0E5baNNJJbki"
      },
      "source": [
        "# **if a suicide happen in an perticular state then what is the prob of that happening due to a perticular Type:**"
      ]
    },
    {
      "cell_type": "code",
      "execution_count": null,
      "metadata": {
        "id": "i3j-qzkHHyqJ"
      },
      "outputs": [],
      "source": [
        "state_menu = df['State'].unique()\n",
        "print(state_menu,\"\\n\")\n",
        "state = input(\"Enter the state: \")\n",
        "cause_menu = df['Type'].unique()\n",
        "print(\"\\n\",cause_menu,\"\\n\")\n",
        "cause = input(\"Enter the cause type: \")\n",
        "df_state = df[df['State'] == state]\n",
        "state_sum = df_state.loc[df_state['State'] == state, 'Total'].sum()\n",
        "df_cause = df_state[df_state['Type'] == cause]\n",
        "cause_sum = df_cause.loc[df_cause['Type'] == cause, 'Total'].sum()\n",
        "print(\"\\nThe probability of suicide due to cause type:-\",cause,\" in \",state,\" is: \",(cause_sum/state_sum))\n",
        "print(\"\\nThe percent in above case is: \",(cause_sum/state_sum)*100,\"%\")"
      ]
    },
    {
      "cell_type": "markdown",
      "metadata": {
        "id": "GPM6vpyvomRc"
      },
      "source": [
        "# **Dataset of particular age group with there year, type and state**"
      ]
    },
    {
      "cell_type": "code",
      "execution_count": null,
      "metadata": {
        "id": "YgNLFGXxZM3H"
      },
      "outputs": [],
      "source": [
        "Type_menu=df['Type'].unique()\n",
        "print(Type_menu)\n",
        "print(\"\\n\")\n",
        "T = input(\"Enter the type of cause: \")\n",
        "print(\"\\n\\n\")\n",
        "age_menu=df['Age_group'].unique()\n",
        "print(age_menu)\n",
        "print(\"\\n\")\n",
        "A = input(\"Enter the age_group: \")\n",
        "print(\"\\n\\n\")\n",
        "state_menu=df['State'].unique()\n",
        "print(state_menu)\n",
        "print(\"\\n\")\n",
        "S = input(\"Enter the State: \")\n",
        "d1 = pd.DataFrame(df[df['Type'] == T])\n",
        "d2=pd.DataFrame(d1[d1['Age_group']==A])\n",
        "d3=d2[d2['State']==S]\n",
        "d3"
      ]
    },
    {
      "cell_type": "code",
      "execution_count": null,
      "metadata": {
        "id": "s1ivP5ysZ_Cd"
      },
      "outputs": [],
      "source": [
        "Gayu=pd.DataFrame(d3.groupby('Year')['Total'].sum())\n",
        "plt.plot(df.Year.unique(),Gayu['Total'])\n",
        "gen_t=pd.DataFrame(d3.groupby('Gender')['Total'].sum())\n",
        "print(gen_t)\n",
        "plt.show()"
      ]
    },
    {
      "cell_type": "code",
      "execution_count": null,
      "metadata": {
        "id": "Kl041sc0suUw"
      },
      "outputs": [],
      "source": []
    },
    {
      "cell_type": "code",
      "execution_count": null,
      "metadata": {
        "id": "G8E-htNQsuYN"
      },
      "outputs": [],
      "source": []
    },
    {
      "cell_type": "code",
      "execution_count": null,
      "metadata": {
        "id": "QZ_WI480supo"
      },
      "outputs": [],
      "source": []
    },
    {
      "cell_type": "code",
      "execution_count": null,
      "metadata": {
        "id": "4uNvVqDlm_X7"
      },
      "outputs": [],
      "source": [
        "Type_code_menu=df['Type_code'].unique()\n",
        "print(Type_code_menu)\n",
        "print(\"\\n\")\n",
        "T = input(\"Enter the type of cause: \")\n",
        "print(\"\\n\\n\")\n",
        "age_menu=df['Age_group'].unique()\n",
        "print(age_menu)\n",
        "print(\"\\n\")\n",
        "A = input(\"Enter the age_group: \")\n",
        "print(\"\\n\\n\")\n",
        "state_menu=df['State'].unique()\n",
        "print(state_menu)\n",
        "print(\"\\n\")\n",
        "S = input(\"Enter the State: \")\n",
        "d1 = pd.DataFrame(df[df['Type_code'] == T])\n",
        "d2=pd.DataFrame(d1[d1['Age_group']==A])\n",
        "d3=d2[d2['State']==S]\n",
        "d3"
      ]
    },
    {
      "cell_type": "code",
      "execution_count": null,
      "metadata": {
        "id": "Tcbj_U32qWwx"
      },
      "outputs": [],
      "source": [
        "Gayu=pd.DataFrame(d3.groupby('Year')['Total'].sum())\n",
        "plt.plot(df.Year.unique(),Gayu['Total'])\n",
        "gen_t=pd.DataFrame(d3.groupby('Gender')['Total'].sum())\n",
        "print(gen_t)\n",
        "plt.show()"
      ]
    },
    {
      "cell_type": "code",
      "execution_count": null,
      "metadata": {
        "id": "c1Pi4aCFywWm"
      },
      "outputs": [],
      "source": []
    },
    {
      "cell_type": "code",
      "execution_count": null,
      "metadata": {
        "id": "VxQqmXFXa3yO"
      },
      "outputs": [],
      "source": []
    },
    {
      "cell_type": "code",
      "execution_count": null,
      "metadata": {
        "id": "jjqSQWLwa3nF"
      },
      "outputs": [],
      "source": []
    },
    {
      "cell_type": "code",
      "execution_count": null,
      "metadata": {
        "id": "KVrz5XEua3Qa"
      },
      "outputs": [],
      "source": [
        "eduDf = df[df['Type_code']=='Education_Status']\n",
        "causesDf = df[df['Type_code']=='Causes']\n",
        "meansDf = df[df['Type_code']=='Means_adopted']\n",
        "profDf = df[df['Type_code']=='Professional_Profile']\n",
        "socialDf = df[df['Type_code']=='Social_Status']"
      ]
    },
    {
      "cell_type": "code",
      "execution_count": null,
      "metadata": {
        "id": "8YXKGrRKa50w"
      },
      "outputs": [],
      "source": [
        "plt.figure(figsize=(12,6))\n",
        "eduDf = eduDf[['Type','Gender','Total']]\n",
        "edSort = eduDf.groupby(['Type','Gender'],as_index=False).sum().sort_values('Total',ascending=False)\n",
        "sns.barplot(x='Type',y='Total',hue='Gender',data=edSort,palette='viridis')\n",
        "plt.xticks(rotation=45,ha='right')\n",
        "plt.tight_layout()\n"
      ]
    },
    {
      "cell_type": "markdown",
      "metadata": {
        "id": "7eNytSiibTss"
      },
      "source": [
        "Number of suicides appear to be concentrated towards Lower education level. Most of the people who have committed suicides have education level below Matriculate/Secondary."
      ]
    },
    {
      "cell_type": "code",
      "execution_count": null,
      "metadata": {
        "id": "0ZoMjtpubZwc"
      },
      "outputs": [],
      "source": [
        "plt.figure(figsize=(9,6))\n",
        "socialDf = socialDf[['Type','Gender','Total']]\n",
        "socialSort = socialDf.groupby(['Type','Gender'],as_index=False).sum().sort_values('Total',ascending=False)\n",
        "sns.barplot(x='Type',y='Total',data=socialSort,hue='Gender',palette='viridis')\n",
        "plt.xticks(rotation=45,ha='right')\n",
        "plt.tight_layout()"
      ]
    },
    {
      "cell_type": "markdown",
      "metadata": {
        "id": "RZlme_yebbqa"
      },
      "source": []
    },
    {
      "cell_type": "code",
      "execution_count": null,
      "metadata": {
        "id": "L7aAXrG6bcLv"
      },
      "outputs": [],
      "source": [
        "causesDf.is_copy = False\n",
        "causesDf.loc[causesDf['Type']=='Bankruptcy or Sudden change in Economic','Type'] = 'Change in Economic Status'\n",
        "causesDf.loc[causesDf['Type']=='Bankruptcy or Sudden change in Economic Status','Type'] = 'Change in Economic Status'\n",
        "causesDf.loc[causesDf['Type']=='Other Causes (Please Specity)','Type'] = 'Causes Not known'\n",
        "causesDf.loc[causesDf['Type']=='Not having Children (Barrenness/Impotency','Type'] = 'Not having Children(Barrenness/Impotency'\n",
        "plt.figure(figsize=(12,6))\n",
        "causesDf = causesDf[['Type','Gender','Total']]\n",
        "causesSort = causesDf.groupby(['Type','Gender'],as_index=False).sum().sort_values('Total',ascending=False)\n",
        "sns.barplot(x='Type',y='Total',data=causesSort,hue='Gender',palette='viridis')\n",
        "plt.xticks(rotation=45,ha='right')\n",
        "plt.tight_layout()"
      ]
    },
    {
      "cell_type": "markdown",
      "metadata": {
        "id": "jBJAa_h8bp7s"
      },
      "source": []
    },
    {
      "cell_type": "markdown",
      "metadata": {
        "id": "89LWf_ywckgL"
      },
      "source": [
        "While most of the causes of the suicides are not known, the three major causes among the known cases are Family problems, Prolonged illness and mental illness.\n",
        "\n",
        "According to the data men seem to be badly effected by unemployment, property dispute, poverty,drug abuse or addiction and change in economic status than women.\n",
        "\n",
        "Number of women who have committed suicides due to dowry disputes is much higher when compared to men,"
      ]
    },
    {
      "cell_type": "code",
      "execution_count": null,
      "metadata": {
        "id": "X5y27rwSbpAs"
      },
      "outputs": [],
      "source": [
        "plt.figure(figsize=(12,6))\n",
        "profDf = profDf[['Type','Gender','Total']]\n",
        "profSort = profDf.groupby(['Type','Gender'],as_index=False).sum().sort_values('Total',ascending=False)\n",
        "sns.barplot(x='Type',y='Total',data=profSort,hue='Gender',palette='viridis')\n",
        "plt.xticks(rotation=45,ha='right')\n",
        "plt.tight_layout()"
      ]
    },
    {
      "cell_type": "markdown",
      "metadata": {
        "id": "gNbXpJFsc-_H"
      },
      "source": [
        "According to the data, most of the females who have committed suicides are house wives. The percentage of female suicides in all other categories is much lower than the percentage of male suicides. While this is an indication of lower representation by women in professional careers, it also reiterates the importance of girl education and women empowerment. The graph shows that financially independent women are much mentally stronger.\n",
        "It is disheartening to see that farmers who feed the rest of the country are the ones who are more committing suicides than any other profession. Followed by farmers, it's the unemployed and private sector employees who are most effected. It's surprising to know that the number of suicides among the unemployed and the private sector employees is almost the same. This also might be due to higher pressure in private sector when compared to government sector jobs."
      ]
    },
    {
      "cell_type": "markdown",
      "metadata": {
        "id": "Fp4sEH_Obosa"
      },
      "source": []
    },
    {
      "cell_type": "code",
      "execution_count": null,
      "metadata": {
        "id": "mpYkyV0mdD3E"
      },
      "outputs": [],
      "source": [
        "causes = df[df['Type_code']=='Causes']\n",
        "causesGrp = causes.groupby(['State','Age_group'],as_index=False).sum()\n",
        "causesGrpPvt = causesGrp.pivot(index='Age_group',columns='State',values='Total')\n",
        "plt.figure(figsize=(14,6))\n",
        "plt.xticks(rotation=45,ha='right')\n",
        "sns.heatmap(causesGrpPvt,cmap='YlGnBu')\n",
        "plt.tight_layout()"
      ]
    },
    {
      "cell_type": "markdown",
      "metadata": {
        "id": "ADD2pCOMdIIW"
      },
      "source": [
        "This plot gives us an insight on the number of suicides, based on state and age group. As we can see 15-29 is the most vulnerable age in all states except Kerala. **Maharashtra is the state with most number of suicides**.Number of suicides per square kilometre might give us some more information on this."
      ]
    },
    {
      "cell_type": "code",
      "execution_count": null,
      "metadata": {
        "id": "0PpXQxVPdMLu"
      },
      "outputs": [],
      "source": [
        "edu = df[df['Type_code']=='Education_Status']\n",
        "plt.figure(figsize=(12,6))\n",
        "st = edu.groupby(['State','Gender'],as_index=False).sum().sort_values('Total',ascending=False)\n",
        "st = st[(st['State']!='Total (States)') & (st['State']!='Total (All India)') & (st['State']!='Total (Uts)')]\n",
        "\n",
        "statesArea = {'Maharashtra':307713,'West Bengal':88752,'Tamil Nadu':130058,'Andhra Pradesh':275045,'Karnataka':191791,'Kerala':38863,'Madhya Pradesh':308350,'Gujarat':196024,'Chhattisgarh':135191,'Odisha':155707,'Rajasthan':342239,'Uttar Pradesh':243290,'Assam':78438,'Haryana':44212,'Delhi (Ut)':1484,'Jharkhand':79714,'Punjab':50362,'Bihar':94163,'Tripura':10486,'Puducherry':562,'Himachal Pradesh':55673,'Uttarakhand':53483,'Goa':3702,'Jammu & Kashmir':222236,'Sikkim':7096,'A & N Islands':8249,'Arunachal Pradesh':83743,'Meghalaya':22429,'Chandigarh':114,'Mizoram':21081,'D & N Haveli':491,'Manipur':22327,'Nagaland':16579,'Daman & Diu':112,'Lakshadweep':32}\n",
        "for state in statesArea.keys():\n",
        "    st.loc[st['State']==state,'Area'] = statesArea[state]\n",
        "st['Suicides_per_squareKm'] = st['Total']/st['Area']\n",
        "sortedStates = st.sort_values('Suicides_per_squareKm',ascending=False)\n",
        "sns.barplot(x='State',y='Suicides_per_squareKm',data=sortedStates,hue='Gender',palette='viridis')\n",
        "plt.xticks(rotation=45,ha='right')\n",
        "plt.tight_layout()\n"
      ]
    },
    {
      "cell_type": "markdown",
      "metadata": {
        "id": "AVAHN4d3dSgN"
      },
      "source": [
        "Union territories whose area is much smaller compared other states have higher number of suicides per square kilometre. Again, Kerala is an exception here as it larger compared all other union territories. Kerala is followed by West Bengal and Tamil Nadu among the Indian states to register higher number of suicides."
      ]
    },
    {
      "cell_type": "code",
      "execution_count": null,
      "metadata": {
        "id": "0tjCPq5TydV_"
      },
      "outputs": [],
      "source": [
        "Type_menu = df['Type'].unique()\n",
        "print(Type_menu,\"\\n\")\n",
        "labels = tuple(Type_menu)\n",
        "#sizes = [15, 30, 45, 10]\n",
        "\n",
        "s = input(\"Enter the state: \")\n",
        "d1 = df[df['State'] == s]\n",
        "d2 = d1.groupby(df['Type']).sum()\n",
        "#d2.drop(labels=['Year'], axis=1)\n",
        "sizes = d2['Total']\n",
        "\n",
        "fig1, ax1 = plt.subplots(figsize=(10, 15))\n",
        "#ax1.pie(sizes, labels=labels)\n",
        "\n",
        "patches, texts = plt.pie(sizes, shadow=True, startangle=90)\n",
        "plt.legend(patches, labels, loc=\"best\")\n",
        "ax1.axis('equal')\n",
        "plt.show()"
      ]
    },
    {
      "cell_type": "code",
      "execution_count": null,
      "metadata": {
        "id": "Umlkf0dOasqV"
      },
      "outputs": [],
      "source": [
        "Type_menu = df['Type'].unique()\n",
        "print(Type_menu,\"\\n\")\n",
        "labels = tuple(Type_menu)\n",
        "\n",
        "s = input(\"Enter the state: \")\n",
        "d1 = df[df['State'] == s]\n",
        "d2 = d1.groupby(df['Type']).sum()\n",
        "\n",
        "sizes = d2['Total']\n",
        "\n",
        "fig1, ax1 = plt.subplots(figsize=(10, 15))\n",
        "\n",
        "patches, texts = plt.pie(sizes, shadow=True, startangle=90)\n",
        "plt.legend(patches, labels, loc=\"best\")\n",
        "ax1.axis('equal')\n",
        "plt.show()"
      ]
    },
    {
      "cell_type": "code",
      "source": [
        "fig, axes = plt.subplots(3, 2, figsize=(30, 30))\n",
        "Age_menu=df['Age_group'].unique()\n",
        "for i in range(3):\n",
        "  for j in range(2):\n",
        "    d_s=df[df['State']=='A & N Islands']\n",
        "    grp=pd.DataFrame(d_s.groupby('Age_group')['Total'].sum())\n",
        "    axes[i,j].set_title(\"suicide in A & N Islands in 2001-2014\")\n",
        "    axes[i,j].bar(df.Age_group.unique(), grp.Total, color = 'black');\n",
        "    plt.xlabel('Age_group')\n",
        "    plt.ylabel('Number of Suicides')\n"
      ],
      "metadata": {
        "id": "c5MF0gPaKNz4"
      },
      "execution_count": null,
      "outputs": []
    },
    {
      "cell_type": "code",
      "source": [
        "df['Age_group'].unique()"
      ],
      "metadata": {
        "colab": {
          "base_uri": "https://localhost:8080/"
        },
        "id": "vJgS2riPTitB",
        "outputId": "9eb88a85-38e3-4bff-bc0d-d1edf9572ef7"
      },
      "execution_count": null,
      "outputs": [
        {
          "output_type": "execute_result",
          "data": {
            "text/plain": [
              "array(['0-14', '15-29', '30-44', '45-59', '60+', '0-100+'], dtype=object)"
            ]
          },
          "metadata": {},
          "execution_count": 64
        }
      ]
    },
    {
      "cell_type": "code",
      "source": [
        "df['Type'].unique()"
      ],
      "metadata": {
        "colab": {
          "base_uri": "https://localhost:8080/"
        },
        "id": "4-1V-afmS0S0",
        "outputId": "153957c0-6b6f-4652-9ad8-22884cdea2e0"
      },
      "execution_count": null,
      "outputs": [
        {
          "output_type": "execute_result",
          "data": {
            "text/plain": [
              "array(['Illness (Aids/STD)', 'Bankruptcy or Sudden change in Economic',\n",
              "       'Cancellation/Non-Settlement of Marriage',\n",
              "       'Physical Abuse (Rape/Incest Etc.)', 'Dowry Dispute',\n",
              "       'Family Problems', 'Ideological Causes/Hero Worshipping',\n",
              "       'Other Prolonged Illness', 'Property Dispute',\n",
              "       'Fall in Social Reputation', 'Illegitimate Pregnancy',\n",
              "       'Failure in Examination', 'Insanity/Mental Illness',\n",
              "       'Love Affairs', 'Professional/Career Problem', 'Divorce',\n",
              "       'Drug Abuse/Addiction', 'Not having Children', 'Causes Not known',\n",
              "       'Unemployment', 'Other Causes (Please Specity)', 'Poverty',\n",
              "       'Death of Dear Person', 'Cancer', 'Suspected/Illicit Relation',\n",
              "       'Paralysis', 'Diploma', 'No Education', 'Post Graduate and Above',\n",
              "       'Middle', 'Graduate', 'Hr. Secondary/Intermediate/Pre-Universit',\n",
              "       'Primary', 'Matriculate/Secondary', 'By Consuming Insecticides',\n",
              "       'By Hanging', 'By Jumping from (Other sites)',\n",
              "       'By touching electric wires', 'By Machine',\n",
              "       'By Fire/Self Immolation', 'By Jumping off Moving Vehicles/Trains',\n",
              "       'By other means', 'By Self Infliction of injury',\n",
              "       'By Over Alcoholism', 'By Consuming Other Poison',\n",
              "       'By coming under running vehicles/trains',\n",
              "       'By Overdose of sleeping pills', 'By Jumping from (Building)',\n",
              "       'By Drowning', 'By Fire-Arms', 'Retired Person', 'Unemployed',\n",
              "       'Public Sector Undertaking', 'Service (Private)', 'House Wife',\n",
              "       'Self-employed (Business activity)', 'Professional Activity',\n",
              "       'Student', 'Others (Please Specify)',\n",
              "       'Farming/Agriculture Activity', 'Service (Government)', 'Married',\n",
              "       'Seperated', 'Widowed/Widower', 'Divorcee', 'Never Married',\n",
              "       'Bankruptcy or Sudden change in Economic Status',\n",
              "       'Not having Children (Barrenness/Impotency'], dtype=object)"
            ]
          },
          "metadata": {},
          "execution_count": 61
        }
      ]
    },
    {
      "cell_type": "code",
      "source": [
        "df['Age_group'].unique()"
      ],
      "metadata": {
        "colab": {
          "base_uri": "https://localhost:8080/"
        },
        "id": "bxWPOHJ2TBLo",
        "outputId": "b0db91f3-d670-4e4a-9db0-d5794842d798"
      },
      "execution_count": null,
      "outputs": [
        {
          "output_type": "execute_result",
          "data": {
            "text/plain": [
              "array(['0-14', '15-29', '30-44', '45-59', '60+', '0-100+'], dtype=object)"
            ]
          },
          "metadata": {},
          "execution_count": 63
        }
      ]
    },
    {
      "cell_type": "code",
      "execution_count": null,
      "metadata": {
        "colab": {
          "base_uri": "https://localhost:8080/",
          "height": 1000
        },
        "id": "NgQzrO-0bTcA",
        "outputId": "484ef6fe-2ed5-4c64-bca1-7fc99bd1fb1b"
      },
      "outputs": [
        {
          "output_type": "error",
          "ename": "ValueError",
          "evalue": "ignored",
          "traceback": [
            "\u001b[0;31m---------------------------------------------------------------------------\u001b[0m",
            "\u001b[0;31mValueError\u001b[0m                                Traceback (most recent call last)",
            "\u001b[0;32m<ipython-input-55-84156f17ab7a>\u001b[0m in \u001b[0;36m<module>\u001b[0;34m\u001b[0m\n\u001b[1;32m    217\u001b[0m \u001b[0mgrp\u001b[0m\u001b[0;34m=\u001b[0m\u001b[0mpd\u001b[0m\u001b[0;34m.\u001b[0m\u001b[0mDataFrame\u001b[0m\u001b[0;34m(\u001b[0m\u001b[0md_s\u001b[0m\u001b[0;34m.\u001b[0m\u001b[0mgroupby\u001b[0m\u001b[0;34m(\u001b[0m\u001b[0;34m'Age_group'\u001b[0m\u001b[0;34m)\u001b[0m\u001b[0;34m[\u001b[0m\u001b[0;34m'Total'\u001b[0m\u001b[0;34m]\u001b[0m\u001b[0;34m.\u001b[0m\u001b[0msum\u001b[0m\u001b[0;34m(\u001b[0m\u001b[0;34m)\u001b[0m\u001b[0;34m)\u001b[0m\u001b[0;34m\u001b[0m\u001b[0;34m\u001b[0m\u001b[0m\n\u001b[1;32m    218\u001b[0m \u001b[0maxes\u001b[0m\u001b[0;34m[\u001b[0m\u001b[0;36m6\u001b[0m\u001b[0;34m,\u001b[0m\u001b[0;36m0\u001b[0m\u001b[0;34m]\u001b[0m\u001b[0;34m.\u001b[0m\u001b[0mset_title\u001b[0m\u001b[0;34m(\u001b[0m\u001b[0;34m\"suicide in Tamil Nadu in 2001-2014\"\u001b[0m\u001b[0;34m)\u001b[0m\u001b[0;34m\u001b[0m\u001b[0;34m\u001b[0m\u001b[0m\n\u001b[0;32m--> 219\u001b[0;31m \u001b[0maxes\u001b[0m\u001b[0;34m[\u001b[0m\u001b[0;36m6\u001b[0m\u001b[0;34m,\u001b[0m\u001b[0;36m0\u001b[0m\u001b[0;34m]\u001b[0m\u001b[0;34m.\u001b[0m\u001b[0mbar\u001b[0m\u001b[0;34m(\u001b[0m\u001b[0mdf\u001b[0m\u001b[0;34m.\u001b[0m\u001b[0mAge_group\u001b[0m\u001b[0;34m.\u001b[0m\u001b[0munique\u001b[0m\u001b[0;34m(\u001b[0m\u001b[0;34m)\u001b[0m\u001b[0;34m,\u001b[0m \u001b[0mgrp\u001b[0m\u001b[0;34m.\u001b[0m\u001b[0mTotal\u001b[0m\u001b[0;34m,\u001b[0m \u001b[0mcolor\u001b[0m \u001b[0;34m=\u001b[0m \u001b[0;34m'brown'\u001b[0m\u001b[0;34m)\u001b[0m\u001b[0;34m;\u001b[0m\u001b[0;34m\u001b[0m\u001b[0;34m\u001b[0m\u001b[0m\n\u001b[0m\u001b[1;32m    220\u001b[0m \u001b[0mplt\u001b[0m\u001b[0;34m.\u001b[0m\u001b[0mxlabel\u001b[0m\u001b[0;34m(\u001b[0m\u001b[0;34m'Age_group'\u001b[0m\u001b[0;34m)\u001b[0m \u001b[0;31m#X-axis\u001b[0m\u001b[0;34m\u001b[0m\u001b[0;34m\u001b[0m\u001b[0m\n\u001b[1;32m    221\u001b[0m \u001b[0mplt\u001b[0m\u001b[0;34m.\u001b[0m\u001b[0mylabel\u001b[0m\u001b[0;34m(\u001b[0m\u001b[0;34m'Number of Suicides'\u001b[0m\u001b[0;34m)\u001b[0m \u001b[0;31m#Y-axis\u001b[0m\u001b[0;34m\u001b[0m\u001b[0;34m\u001b[0m\u001b[0m\n",
            "\u001b[0;32m/usr/local/lib/python3.7/dist-packages/matplotlib/__init__.py\u001b[0m in \u001b[0;36minner\u001b[0;34m(ax, data, *args, **kwargs)\u001b[0m\n\u001b[1;32m   1563\u001b[0m     \u001b[0;32mdef\u001b[0m \u001b[0minner\u001b[0m\u001b[0;34m(\u001b[0m\u001b[0max\u001b[0m\u001b[0;34m,\u001b[0m \u001b[0;34m*\u001b[0m\u001b[0margs\u001b[0m\u001b[0;34m,\u001b[0m \u001b[0mdata\u001b[0m\u001b[0;34m=\u001b[0m\u001b[0;32mNone\u001b[0m\u001b[0;34m,\u001b[0m \u001b[0;34m**\u001b[0m\u001b[0mkwargs\u001b[0m\u001b[0;34m)\u001b[0m\u001b[0;34m:\u001b[0m\u001b[0;34m\u001b[0m\u001b[0;34m\u001b[0m\u001b[0m\n\u001b[1;32m   1564\u001b[0m         \u001b[0;32mif\u001b[0m \u001b[0mdata\u001b[0m \u001b[0;32mis\u001b[0m \u001b[0;32mNone\u001b[0m\u001b[0;34m:\u001b[0m\u001b[0;34m\u001b[0m\u001b[0;34m\u001b[0m\u001b[0m\n\u001b[0;32m-> 1565\u001b[0;31m             \u001b[0;32mreturn\u001b[0m \u001b[0mfunc\u001b[0m\u001b[0;34m(\u001b[0m\u001b[0max\u001b[0m\u001b[0;34m,\u001b[0m \u001b[0;34m*\u001b[0m\u001b[0mmap\u001b[0m\u001b[0;34m(\u001b[0m\u001b[0msanitize_sequence\u001b[0m\u001b[0;34m,\u001b[0m \u001b[0margs\u001b[0m\u001b[0;34m)\u001b[0m\u001b[0;34m,\u001b[0m \u001b[0;34m**\u001b[0m\u001b[0mkwargs\u001b[0m\u001b[0;34m)\u001b[0m\u001b[0;34m\u001b[0m\u001b[0;34m\u001b[0m\u001b[0m\n\u001b[0m\u001b[1;32m   1566\u001b[0m \u001b[0;34m\u001b[0m\u001b[0m\n\u001b[1;32m   1567\u001b[0m         \u001b[0mbound\u001b[0m \u001b[0;34m=\u001b[0m \u001b[0mnew_sig\u001b[0m\u001b[0;34m.\u001b[0m\u001b[0mbind\u001b[0m\u001b[0;34m(\u001b[0m\u001b[0max\u001b[0m\u001b[0;34m,\u001b[0m \u001b[0;34m*\u001b[0m\u001b[0margs\u001b[0m\u001b[0;34m,\u001b[0m \u001b[0;34m**\u001b[0m\u001b[0mkwargs\u001b[0m\u001b[0;34m)\u001b[0m\u001b[0;34m\u001b[0m\u001b[0;34m\u001b[0m\u001b[0m\n",
            "\u001b[0;32m/usr/local/lib/python3.7/dist-packages/matplotlib/axes/_axes.py\u001b[0m in \u001b[0;36mbar\u001b[0;34m(self, x, height, width, bottom, align, **kwargs)\u001b[0m\n\u001b[1;32m   2340\u001b[0m         x, height, width, y, linewidth = np.broadcast_arrays(\n\u001b[1;32m   2341\u001b[0m             \u001b[0;31m# Make args iterable too.\u001b[0m\u001b[0;34m\u001b[0m\u001b[0;34m\u001b[0m\u001b[0;34m\u001b[0m\u001b[0m\n\u001b[0;32m-> 2342\u001b[0;31m             np.atleast_1d(x), height, width, y, linewidth)\n\u001b[0m\u001b[1;32m   2343\u001b[0m \u001b[0;34m\u001b[0m\u001b[0m\n\u001b[1;32m   2344\u001b[0m         \u001b[0;31m# Now that units have been converted, set the tick locations.\u001b[0m\u001b[0;34m\u001b[0m\u001b[0;34m\u001b[0m\u001b[0;34m\u001b[0m\u001b[0m\n",
            "\u001b[0;32m<__array_function__ internals>\u001b[0m in \u001b[0;36mbroadcast_arrays\u001b[0;34m(*args, **kwargs)\u001b[0m\n",
            "\u001b[0;32m/usr/local/lib/python3.7/dist-packages/numpy/lib/stride_tricks.py\u001b[0m in \u001b[0;36mbroadcast_arrays\u001b[0;34m(subok, *args)\u001b[0m\n\u001b[1;32m    536\u001b[0m     \u001b[0margs\u001b[0m \u001b[0;34m=\u001b[0m \u001b[0;34m[\u001b[0m\u001b[0mnp\u001b[0m\u001b[0;34m.\u001b[0m\u001b[0marray\u001b[0m\u001b[0;34m(\u001b[0m\u001b[0m_m\u001b[0m\u001b[0;34m,\u001b[0m \u001b[0mcopy\u001b[0m\u001b[0;34m=\u001b[0m\u001b[0;32mFalse\u001b[0m\u001b[0;34m,\u001b[0m \u001b[0msubok\u001b[0m\u001b[0;34m=\u001b[0m\u001b[0msubok\u001b[0m\u001b[0;34m)\u001b[0m \u001b[0;32mfor\u001b[0m \u001b[0m_m\u001b[0m \u001b[0;32min\u001b[0m \u001b[0margs\u001b[0m\u001b[0;34m]\u001b[0m\u001b[0;34m\u001b[0m\u001b[0;34m\u001b[0m\u001b[0m\n\u001b[1;32m    537\u001b[0m \u001b[0;34m\u001b[0m\u001b[0m\n\u001b[0;32m--> 538\u001b[0;31m     \u001b[0mshape\u001b[0m \u001b[0;34m=\u001b[0m \u001b[0m_broadcast_shape\u001b[0m\u001b[0;34m(\u001b[0m\u001b[0;34m*\u001b[0m\u001b[0margs\u001b[0m\u001b[0;34m)\u001b[0m\u001b[0;34m\u001b[0m\u001b[0;34m\u001b[0m\u001b[0m\n\u001b[0m\u001b[1;32m    539\u001b[0m \u001b[0;34m\u001b[0m\u001b[0m\n\u001b[1;32m    540\u001b[0m     \u001b[0;32mif\u001b[0m \u001b[0mall\u001b[0m\u001b[0;34m(\u001b[0m\u001b[0marray\u001b[0m\u001b[0;34m.\u001b[0m\u001b[0mshape\u001b[0m \u001b[0;34m==\u001b[0m \u001b[0mshape\u001b[0m \u001b[0;32mfor\u001b[0m \u001b[0marray\u001b[0m \u001b[0;32min\u001b[0m \u001b[0margs\u001b[0m\u001b[0;34m)\u001b[0m\u001b[0;34m:\u001b[0m\u001b[0;34m\u001b[0m\u001b[0;34m\u001b[0m\u001b[0m\n",
            "\u001b[0;32m/usr/local/lib/python3.7/dist-packages/numpy/lib/stride_tricks.py\u001b[0m in \u001b[0;36m_broadcast_shape\u001b[0;34m(*args)\u001b[0m\n\u001b[1;32m    418\u001b[0m     \u001b[0;31m# use the old-iterator because np.nditer does not handle size 0 arrays\u001b[0m\u001b[0;34m\u001b[0m\u001b[0;34m\u001b[0m\u001b[0;34m\u001b[0m\u001b[0m\n\u001b[1;32m    419\u001b[0m     \u001b[0;31m# consistently\u001b[0m\u001b[0;34m\u001b[0m\u001b[0;34m\u001b[0m\u001b[0;34m\u001b[0m\u001b[0m\n\u001b[0;32m--> 420\u001b[0;31m     \u001b[0mb\u001b[0m \u001b[0;34m=\u001b[0m \u001b[0mnp\u001b[0m\u001b[0;34m.\u001b[0m\u001b[0mbroadcast\u001b[0m\u001b[0;34m(\u001b[0m\u001b[0;34m*\u001b[0m\u001b[0margs\u001b[0m\u001b[0;34m[\u001b[0m\u001b[0;34m:\u001b[0m\u001b[0;36m32\u001b[0m\u001b[0;34m]\u001b[0m\u001b[0;34m)\u001b[0m\u001b[0;34m\u001b[0m\u001b[0;34m\u001b[0m\u001b[0m\n\u001b[0m\u001b[1;32m    421\u001b[0m     \u001b[0;31m# unfortunately, it cannot handle 32 or more arguments directly\u001b[0m\u001b[0;34m\u001b[0m\u001b[0;34m\u001b[0m\u001b[0;34m\u001b[0m\u001b[0m\n\u001b[1;32m    422\u001b[0m     \u001b[0;32mfor\u001b[0m \u001b[0mpos\u001b[0m \u001b[0;32min\u001b[0m \u001b[0mrange\u001b[0m\u001b[0;34m(\u001b[0m\u001b[0;36m32\u001b[0m\u001b[0;34m,\u001b[0m \u001b[0mlen\u001b[0m\u001b[0;34m(\u001b[0m\u001b[0margs\u001b[0m\u001b[0;34m)\u001b[0m\u001b[0;34m,\u001b[0m \u001b[0;36m31\u001b[0m\u001b[0;34m)\u001b[0m\u001b[0;34m:\u001b[0m\u001b[0;34m\u001b[0m\u001b[0;34m\u001b[0m\u001b[0m\n",
            "\u001b[0;31mValueError\u001b[0m: shape mismatch: objects cannot be broadcast to a single shape"
          ]
        },
        {
          "output_type": "display_data",
          "data": {
            "text/plain": [
              "<Figure size 2160x2160 with 35 Axes>"
            ],
            "image/png": "[encoded data removed]"
          },
          "metadata": {
            "needs_background": "light"
          }
        }
      ],
      "source": [
        "fig, axes = plt.subplots(7, 5, figsize=(30, 30))\n",
        "\n",
        "d_s=df[df['State']=='A & N Islands']\n",
        "grp=pd.DataFrame(d_s.groupby('Age_group')['Total'].sum())\n",
        "axes[0,0].set_title(\"suicide in A & N Islands in 2001-2014\")\n",
        "axes[0,0].bar(df.Age_group.unique(), grp.Total, color = 'black');\n",
        "plt.xlabel('Age_group') #X-axis\n",
        "plt.ylabel('Number of Suicides') #Y-axis\n",
        "\n",
        "d_s=df[df['State']=='Andhra Pradesh']\n",
        "grp=pd.DataFrame(d_s.groupby('Age_group')['Total'].sum())\n",
        "axes[0,1].set_title(\"suicide in Andhra Pradesh in 2001-2014\")\n",
        "axes[0,1].bar(df.Age_group.unique(), grp.Total, color = 'violet');\n",
        "plt.xlabel('Age_group') #X-axis\n",
        "plt.ylabel('Number of Suicides') #Y-axis\n",
        "\n",
        "d_s=df[df['State']=='Arunachal Pradesh']\n",
        "grp=pd.DataFrame(d_s.groupby('Age_group')['Total'].sum())\n",
        "axes[0,2].set_title(\"suicide in Arunachal Pradesh in 2001-2014\")\n",
        "axes[0,2].bar(df.Age_group.unique(), grp.Total, color = 'navy');\n",
        "plt.xlabel('Age_group') #X-axis\n",
        "plt.ylabel('Number of Suicides') #Y-axis\n",
        "\n",
        "d_s=df[df['State']=='Assam']\n",
        "grp=pd.DataFrame(d_s.groupby('Age_group')['Total'].sum())\n",
        "axes[0,3].set_title(\"suicide in Assam in 2001-2014\")\n",
        "axes[0,3].bar(df.Age_group.unique(), grp.Total, color = 'yellow');\n",
        "plt.xlabel('Age_group') #X-axis\n",
        "plt.ylabel('Number of Suicides') #Y-axis\n",
        "\n",
        "d_s=df[df['State']=='Bihar']\n",
        "grp=pd.DataFrame(d_s.groupby('Age_group')['Total'].sum())\n",
        "axes[0,4].set_title(\"suicide in Bihar in 2001-2014\")\n",
        "axes[0,4].bar(df.Age_group.unique(), grp.Total, color = 'pink');\n",
        "plt.xlabel('Age_group') #X-axis\n",
        "plt.ylabel('Number of Suicides') #Y-axis\n",
        "\n",
        "d_s=df[df['State']=='Delhi']\n",
        "grp=pd.DataFrame(d_s.groupby('Age_group')['Total'].sum())\n",
        "axes[1,0].set_title(\"suicide in Delhi in 2001-2014\")\n",
        "axes[1,0].bar(df.Age_group.unique(), grp.Total, color = 'red');\n",
        "plt.xlabel('Age_group') #X-axis\n",
        "plt.ylabel('Number of Suicides') #Y-axis\n",
        "d_s=df[df['State']=='Chandigarh']\n",
        "\n",
        "grp=pd.DataFrame(d_s.groupby('Age_group')['Total'].sum())\n",
        "axes[1,1].set_title(\"suicide in Chandigarh in 2001-2014\")\n",
        "axes[1,1].bar(df.Age_group.unique(), grp.Total, color = 'gray');\n",
        "plt.xlabel('Age_group') #X-axis\n",
        "plt.ylabel('Number of Suicides') #Y-axis\n",
        "\n",
        "d_s=df[df['State']=='Chhattisgarh']\n",
        "grp=pd.DataFrame(d_s.groupby('Age_group')['Total'].sum())\n",
        "axes[1,2].set_title(\"suicide in Chhattisgarh in 2001-2014\")\n",
        "axes[1,2].bar(df.Age_group.unique(), grp.Total, color = 'black');\n",
        "plt.xlabel('Age_group') #X-axis\n",
        "plt.ylabel('Number of Suicides') #Y-axis\n",
        "\n",
        "d_s=df[df['State']=='D & N Haveli']\n",
        "grp=pd.DataFrame(d_s.groupby('Age_group')['Total'].sum())\n",
        "axes[1,3].set_title(\"suicide in D & N Haveli in 2001-2014\")\n",
        "axes[1,3].bar(df.Age_group.unique(), grp.Total, color = 'purple');\n",
        "plt.xlabel('Age_group') #X-axis\n",
        "plt.ylabel('Number of Suicides') #Y-axis\n",
        "\n",
        "d_s=df[df['State']=='Daman & Diu']\n",
        "grp=pd.DataFrame(d_s.groupby('Age_group')['Total'].sum())\n",
        "axes[1,4].set_title(\"suicide in Daman & Diu in 2001-2014\")\n",
        "axes[1,4].bar(df.Age_group.unique(), grp.Total, color = 'cyan');\n",
        "plt.xlabel('Age_group') #X-axis\n",
        "plt.ylabel('Number of Suicides') #Y-axis\n",
        "\n",
        "\n",
        "\n",
        "\n",
        "d_s=df[df['State']=='Goa']\n",
        "grp=pd.DataFrame(d_s.groupby('Age_group')['Total'].sum())\n",
        "axes[2,0].set_title(\"suicide in Goa in 2001-2014\")\n",
        "axes[2,0].bar(df.Age_group.unique(), grp.Total, color = 'blue');\n",
        "plt.xlabel('Age_group') #X-axis\n",
        "plt.ylabel('Number of Suicides') #Y-axis\n",
        "\n",
        "d_s=df[df['State']=='Gujarat']\n",
        "grp=pd.DataFrame(d_s.groupby('Age_group')['Total'].sum())\n",
        "axes[2,1].set_title(\"suicide in Gujarat in 2001-2014\")\n",
        "axes[2,1].bar(df.Age_group.unique(), grp.Total, color = 'green');\n",
        "plt.xlabel('Age_group') #X-axis\n",
        "plt.ylabel('Number of Suicides') #Y-axis\n",
        "\n",
        "d_s=df[df['State']=='Haryana']\n",
        "grp=pd.DataFrame(d_s.groupby('Age_group')['Total'].sum())\n",
        "axes[2,2].set_title(\"suicide in Haryana in 2001-2014\")\n",
        "axes[2,2].bar(df.Age_group.unique(), grp.Total, color = 'lavender');\n",
        "plt.xlabel('Age_group') #X-axis\n",
        "plt.ylabel('Number of Suicides') #Y-axis\n",
        "\n",
        "d_s=df[df['State']=='Himachal Pradesh']\n",
        "grp=pd.DataFrame(d_s.groupby('Age_group')['Total'].sum())\n",
        "axes[2,3].set_title(\"suicide in Himachal Pradesh in 2001-2014\")\n",
        "axes[2,3].bar(df.Age_group.unique(), grp.Total, color = 'gray');\n",
        "plt.xlabel('Age_group') #X-axis\n",
        "plt.ylabel('Number of Suicides') #Y-axis\n",
        "\n",
        "d_s=df[df['State']=='Jammu & Kashmir']\n",
        "grp=pd.DataFrame(d_s.groupby('Age_group')['Total'].sum())\n",
        "axes[2,4].set_title(\"suicide in Jammu & Kashmir in 2001-2014\")\n",
        "axes[2,4].bar(df.Age_group.unique(), grp.Total, color = 'blue');\n",
        "plt.xlabel('Age_group') #X-axis\n",
        "plt.ylabel('Number of Suicides') #Y-axis\n",
        "\n",
        "d_s=df[df['State']=='Jharkhand']\n",
        "grp=pd.DataFrame(d_s.groupby('Age_group')['Total'].sum())\n",
        "axes[3,0].set_title(\"suicide in Jharkhand in 2001-2014\")\n",
        "axes[3,0].bar(df.Age_group.unique(), grp.Total, color = 'black');\n",
        "plt.xlabel('Age_group') #X-axis\n",
        "plt.ylabel('Number of Suicides') #Y-axis\n",
        "\n",
        "d_s=df[df['State']=='Karnataka']\n",
        "grp=pd.DataFrame(d_s.groupby('Age_group')['Total'].sum())\n",
        "axes[3,1].set_title(\"suicide in Karnataka in 2001-2014\")\n",
        "axes[3,1].bar(df.Age_group.unique(), grp.Total, color = 'cyan');\n",
        "plt.xlabel('Age_group') #X-axis\n",
        "plt.ylabel('Number of Suicides') #Y-axis\n",
        "\n",
        "d_s=df[df['State']=='Kerala']\n",
        "grp=pd.DataFrame(d_s.groupby('Age_group')['Total'].sum())\n",
        "axes[3,2].set_title(\"suicide in Kerala in 2001-2014\")\n",
        "axes[3,2].bar(df.Age_group.unique(), grp.Total, color = 'green');\n",
        "plt.xlabel('Age_group') #X-axis\n",
        "plt.ylabel('Number of Suicides') #Y-axis\n",
        "\n",
        "d_s=df[df['State']=='Lakshadweep']\n",
        "grp=pd.DataFrame(d_s.groupby('Age_group')['Total'].sum())\n",
        "axes[3,3].set_title(\"suicide in Lakshadweep in 2001-2014\")\n",
        "axes[3,3].bar(df.Age_group.unique(), grp.Total, color = 'violet');\n",
        "plt.xlabel('Age_group') #X-axis\n",
        "plt.ylabel('Number of Suicides') #Y-axis\n",
        "\n",
        "d_s=df[df['State']=='Madhya Pradesh']\n",
        "grp=pd.DataFrame(d_s.groupby('Age_group')['Total'].sum())\n",
        "axes[3,4].set_title(\"suicide in Madhya Pradesh in 2001-2014\")\n",
        "axes[3,4].bar(df.Age_group.unique(), grp.Total, color = 'blue');\n",
        "plt.xlabel('Age_group') #X-axis\n",
        "plt.ylabel('Number of Suicides') #Y-axis\n",
        "\n",
        "d_s=df[df['State']=='Maharashtra']\n",
        "grp=pd.DataFrame(d_s.groupby('Age_group')['Total'].sum())\n",
        "axes[4,0].set_title(\"suicide in Maharashtra in 2001-2014\")\n",
        "axes[4,0].bar(df.Age_group.unique(), grp.Total, color = 'brown');\n",
        "plt.xlabel('Age_group') #X-axis\n",
        "plt.ylabel('Number of Suicides') #Y-axis\n",
        "\n",
        "d_s=df[df['State']=='Manipur']\n",
        "grp=pd.DataFrame(d_s.groupby('Age_group')['Total'].sum())\n",
        "axes[4,1].set_title(\"suicide in Manipur in 2001-2014\")\n",
        "axes[4,1].bar(df.Age_group.unique(), grp.Total, color = 'red');\n",
        "plt.xlabel('Age_group') #X-axis\n",
        "plt.ylabel('Number of Suicides') #Y-axis\n",
        "\n",
        "d_s=df[df['State']=='Meghalaya']\n",
        "grp=pd.DataFrame(d_s.groupby('Age_group')['Total'].sum())\n",
        "axes[4,2].set_title(\"suicide in Meghalaya in 2001-2014\")\n",
        "axes[4,2].bar(df.Age_group.unique(), grp.Total, color = 'brown');\n",
        "plt.xlabel('Age_group') #X-axis\n",
        "plt.ylabel('Number of Suicides') #Y-axis\n",
        "\n",
        "d_s=df[df['State']=='Mizoram']\n",
        "grp=pd.DataFrame(d_s.groupby('Age_group')['Total'].sum())\n",
        "axes[4,3].set_title(\"suicide in Mizoram in 2001-2014\")\n",
        "axes[4,3].bar(df.Age_group.unique(), grp.Total, color = 'lavender');\n",
        "plt.xlabel('Age_group') #X-axis\n",
        "plt.ylabel('Number of Suicides') #Y-axis\n",
        "\n",
        "d_s=df[df['State']=='Nagaland']\n",
        "grp=pd.DataFrame(d_s.groupby('Age_group')['Total'].sum())\n",
        "axes[4,4].set_title(\"suicide in Nagaland in 2001-2014\")\n",
        "axes[4,4].bar(df.Age_group.unique(), grp.Total, color = 'pink');\n",
        "plt.xlabel('Age_group') #X-axis\n",
        "plt.ylabel('Number of Suicides') #Y-axis\n",
        "\n",
        "d_s=df[df['State']=='Odisha']\n",
        "grp=pd.DataFrame(d_s.groupby('Age_group')['Total'].sum())\n",
        "axes[5,0].set_title(\"suicide in Odisha in 2001-2014\")\n",
        "axes[5,0].bar(df.Age_group.unique(), grp.Total, color = 'cyan');\n",
        "plt.xlabel('Age_group') #X-axis\n",
        "plt.ylabel('Number of Suicides') #Y-axis\n",
        "\n",
        "d_s=df[df['State']=='Puducherry']\n",
        "grp=pd.DataFrame(d_s.groupby('Age_group')['Total'].sum())\n",
        "axes[5,1].set_title(\"suicide in Puducherry in 2001-2014\")\n",
        "axes[5,1].bar(df.Age_group.unique(), grp.Total, color = 'orange');\n",
        "plt.xlabel('Age_group') #X-axis\n",
        "plt.ylabel('Number of Suicides') #Y-axis\n",
        "\n",
        "d_s=df[df['State']=='Punjab']\n",
        "grp=pd.DataFrame(d_s.groupby('Age_group')['Total'].sum())\n",
        "axes[5,2].set_title(\"suicide in Punjab in 2001-2014\")\n",
        "axes[5,2].bar(df.Age_group.unique(), grp.Total, color = 'violet');\n",
        "plt.xlabel('Age_group') #X-axis\n",
        "plt.ylabel('Number of Suicides') #Y-axis\n",
        "\n",
        "d_s=df[df['State']=='Rajasthan']\n",
        "grp=pd.DataFrame(d_s.groupby('Age_group')['Total'].sum())\n",
        "axes[5,3].set_title(\"suicide in Rajasthan in 2001-2014\")\n",
        "axes[5,3].bar(df.Age_group.unique(), grp.Total, color = 'yellow');\n",
        "plt.xlabel('Age_group') #X-axis\n",
        "plt.ylabel('Number of Suicides') #Y-axis\n",
        "\n",
        "d_s=df[df['State']=='Delhi']\n",
        "grp=pd.DataFrame(d_s.groupby('Age_group')['Total'].sum())\n",
        "axes[5,4].set_title(\"suicide in Sikkim in 2001-2014\")\n",
        "axes[5,4].bar(df.Age_group.unique(), grp.Total, color = 'black');\n",
        "plt.xlabel('Age_group') #X-axis\n",
        "plt.ylabel('Number of Suicides') #Y-axis\n",
        "\n",
        "d_s=df[df['State']=='Tamil Nadu']\n",
        "grp=pd.DataFrame(d_s.groupby('Age_group')['Total'].sum())\n",
        "axes[6,0].set_title(\"suicide in Tamil Nadu in 2001-2014\")\n",
        "axes[6,0].bar(df.Age_group.unique(), grp.Total, color = 'brown');\n",
        "plt.xlabel('Age_group') #X-axis\n",
        "plt.ylabel('Number of Suicides') #Y-axis\n",
        "\n",
        "d_s=df[df['State']=='Tripura']\n",
        "grp=pd.DataFrame(d_s.groupby('Age_group')['Total'].sum())\n",
        "axes[6,1].set_title(\"suicide in Tripura in 2001-2014\")\n",
        "axes[6,1].bar(df.Age_group.unique(), grp.Total, color = 'red');\n",
        "plt.xlabel('Age_group') #X-axis\n",
        "plt.ylabel('Number of Suicides') #Y-axis\n",
        "\n",
        "d_s=df[df['State']=='Uttar Pradesh']\n",
        "grp=pd.DataFrame(d_s.groupby('Age_group')['Total'].sum())\n",
        "axes[6,2].set_title(\"suicide in Uttar Pradesh in 2001-2014\")\n",
        "axes[6,2].bar(df.Age_group.unique(), grp.Total, color = 'green');\n",
        "plt.xlabel('Age_group') #X-axis\n",
        "plt.ylabel('Number of Suicides') #Y-axis\n",
        "\n",
        "d_s=df[df['State']=='Uttarakhand']\n",
        "grp=pd.DataFrame(d_s.groupby('Age_group')['Total'].sum())\n",
        "axes[6,3].set_title(\"suicide in Uttarakhand in 2001-2014\")\n",
        "axes[6,3].bar(df.Age_group.unique(), grp.Total, color = 'purple');\n",
        "plt.xlabel('Age_group') #X-axis\n",
        "plt.ylabel('Number of Suicides') #Y-axis\n",
        "\n",
        "d_s=df[df['State']=='West Bengal']\n",
        "grp=pd.DataFrame(d_s.groupby('Age_group')['Total'].sum())\n",
        "axes[6,4].set_title(\"suicide in West Bengal in 2001-2014\")\n",
        "axes[6,4].bar(df.Age_group.unique(), grp.Total, color = 'pink');\n",
        "plt.xlabel('Age_group') #X-axis\n",
        "plt.ylabel('Number of Suicides') #Y-axis"
      ]
    },
    {
      "cell_type": "markdown",
      "metadata": {
        "id": "IQzr06Yx954L"
      },
      "source": [
        "Major number of people who commited suicide where retired people and also the people who do not have any education."
      ]
    }
  ],
  "metadata": {
    "colab": {
      "provenance": []
    },
    "kernelspec": {
      "display_name": "Python 3",
      "name": "python3"
    },
    "language_info": {
      "name": "python"
    }
  },
  "nbformat": 4,
  "nbformat_minor": 0
}